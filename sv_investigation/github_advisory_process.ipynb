{
 "cells": [
  {
   "cell_type": "markdown",
   "metadata": {},
   "source": [
    "# Обработка информации об уязвимостях полученных из Github advisory (https://github.com/advisories)\n"
   ]
  },
  {
   "cell_type": "code",
   "execution_count": 1,
   "metadata": {},
   "outputs": [],
   "source": [
    "from git import Repo\n",
    "from typing import Any\n",
    "from pathlib import Path\n",
    "import seaborn as sns\n",
    "import polars as pl\n",
    "from concurrent.futures import ThreadPoolExecutor\n",
    "import matplotlib.pyplot as plt\n",
    "import orjson"
   ]
  },
  {
   "cell_type": "markdown",
   "metadata": {},
   "source": [
    "## Загрузка данных"
   ]
  },
  {
   "cell_type": "code",
   "execution_count": null,
   "metadata": {},
   "outputs": [],
   "source": [
    "Repo.clone_from(\"git@github.com:github/advisory-database.git\", \"advisory-database\")"
   ]
  },
  {
   "cell_type": "code",
   "execution_count": 2,
   "metadata": {},
   "outputs": [
    {
     "data": {
      "text/plain": [
       "219969"
      ]
     },
     "execution_count": 2,
     "metadata": {},
     "output_type": "execute_result"
    }
   ],
   "source": [
    "vulnerabilities_data: list[dict[str, Any]] = []\n",
    "\n",
    "with ThreadPoolExecutor(20) as p:\n",
    "    for content in p.map(lambda fp: fp.read_text(), Path(\"advisory-database\").rglob(\"*.json\")):\n",
    "        vulnerability_data = orjson.loads(content)\n",
    "        cve_ids: list[str] = []\n",
    "        for alias in vulnerability_data[\"aliases\"]:\n",
    "            if alias.startswith(\"CVE-\"):\n",
    "                cve_ids.append(alias[4:])\n",
    "        references: list[str] = []\n",
    "        for reference in vulnerability_data[\"references\"]:\n",
    "            if reference[\"type\"] in {\"WEB\", \"PACKAGE\"}:\n",
    "                references.append(reference[\"url\"])\n",
    "        cwes: list[str] = vulnerability_data[\"database_specific\"][\"cwe_ids\"]\n",
    "        vulnerabilities_data.append({\"cve_id\": cve_ids, \"reference\": references, \"cwe_id\": cwes})\n",
    "\n",
    "len(vulnerabilities_data)"
   ]
  },
  {
   "cell_type": "markdown",
   "metadata": {},
   "source": [
    "## Обработка данных"
   ]
  },
  {
   "cell_type": "code",
   "execution_count": 3,
   "metadata": {},
   "outputs": [
    {
     "data": {
      "text/html": [
       "<div><style>\n",
       ".dataframe > thead > tr,\n",
       ".dataframe > tbody > tr {\n",
       "  text-align: right;\n",
       "  white-space: pre-wrap;\n",
       "}\n",
       "</style>\n",
       "<small>shape: (9, 4)</small><table border=\"1\" class=\"dataframe\"><thead><tr><th>describe</th><th>cve_id</th><th>reference</th><th>cwe_id</th></tr><tr><td>str</td><td>str</td><td>str</td><td>str</td></tr></thead><tbody><tr><td>&quot;count&quot;</td><td>&quot;890748&quot;</td><td>&quot;890748&quot;</td><td>&quot;890748&quot;</td></tr><tr><td>&quot;null_count&quot;</td><td>&quot;4394&quot;</td><td>&quot;272&quot;</td><td>&quot;354098&quot;</td></tr><tr><td>&quot;mean&quot;</td><td>null</td><td>null</td><td>null</td></tr><tr><td>&quot;std&quot;</td><td>null</td><td>null</td><td>null</td></tr><tr><td>&quot;min&quot;</td><td>&quot;1999-0001&quot;</td><td>&quot;://github.com/…</td><td>&quot;CWE-1004&quot;</td></tr><tr><td>&quot;25%&quot;</td><td>null</td><td>null</td><td>null</td></tr><tr><td>&quot;50%&quot;</td><td>null</td><td>null</td><td>null</td></tr><tr><td>&quot;75%&quot;</td><td>null</td><td>null</td><td>null</td></tr><tr><td>&quot;max&quot;</td><td>&quot;2024-0070&quot;</td><td>&quot;www.github.com…</td><td>&quot;CWE-99&quot;</td></tr></tbody></table></div>"
      ],
      "text/plain": [
       "shape: (9, 4)\n",
       "┌────────────┬───────────┬───────────────────────────────────┬──────────┐\n",
       "│ describe   ┆ cve_id    ┆ reference                         ┆ cwe_id   │\n",
       "│ ---        ┆ ---       ┆ ---                               ┆ ---      │\n",
       "│ str        ┆ str       ┆ str                               ┆ str      │\n",
       "╞════════════╪═══════════╪═══════════════════════════════════╪══════════╡\n",
       "│ count      ┆ 890748    ┆ 890748                            ┆ 890748   │\n",
       "│ null_count ┆ 4394      ┆ 272                               ┆ 354098   │\n",
       "│ mean       ┆ null      ┆ null                              ┆ null     │\n",
       "│ std        ┆ null      ┆ null                              ┆ null     │\n",
       "│ min        ┆ 1999-0001 ┆ ://github.com/google/slo-generat… ┆ CWE-1004 │\n",
       "│ 25%        ┆ null      ┆ null                              ┆ null     │\n",
       "│ 50%        ┆ null      ┆ null                              ┆ null     │\n",
       "│ 75%        ┆ null      ┆ null                              ┆ null     │\n",
       "│ max        ┆ 2024-0070 ┆ www.github.com/Really-Simple-Plu… ┆ CWE-99   │\n",
       "└────────────┴───────────┴───────────────────────────────────┴──────────┘"
      ]
     },
     "execution_count": 3,
     "metadata": {},
     "output_type": "execute_result"
    }
   ],
   "source": [
    "vulnerabilities: pl.DataFrame = pl.DataFrame(vulnerabilities_data)\n",
    "vulnerabilities = vulnerabilities.explode(\"cve_id\").explode(\"reference\").explode(\"cwe_id\")\n",
    "vulnerabilities.describe()"
   ]
  },
  {
   "cell_type": "code",
   "execution_count": 4,
   "metadata": {},
   "outputs": [],
   "source": [
    "Path(\"results\").mkdir(exist_ok=True)\n",
    "vulnerabilities.write_csv(\"results/github_cves.csv\")"
   ]
  },
  {
   "cell_type": "code",
   "execution_count": 5,
   "metadata": {},
   "outputs": [
    {
     "data": {
      "image/png": "[encoded data removed]",
      "text/plain": [
       "<Figure size 1300x700 with 1 Axes>"
      ]
     },
     "metadata": {},
     "output_type": "display_data"
    }
   ],
   "source": [
    "fig, ax = plt.subplots(figsize=(13, 7))\n",
    "top_vulnerabilities = (\n",
    "    vulnerabilities.unique([\"cwe_id\", \"cve_id\"]).group_by(\"cwe_id\").count().sort(\"count\", descending=True).limit(15)\n",
    ")\n",
    "top_ids = top_vulnerabilities.select(\"cwe_id\").to_series().to_list()\n",
    "sns.barplot(top_vulnerabilities, x=\"cwe_id\", y=\"count\", ax=ax)\n",
    "plt.show()"
   ]
  }
 ],
 "metadata": {
  "kernelspec": {
   "display_name": ".venv",
   "language": "python",
   "name": "python3"
  },
  "language_info": {
   "codemirror_mode": {
    "name": "ipython",
    "version": 3
   },
   "file_extension": ".py",
   "mimetype": "text/x-python",
   "name": "python",
   "nbconvert_exporter": "python",
   "pygments_lexer": "ipython3",
   "version": "3.10.9"
  }
 },
 "nbformat": 4,
 "nbformat_minor": 2
}
