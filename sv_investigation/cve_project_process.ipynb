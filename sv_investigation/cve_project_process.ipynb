{
 "cells": [
  {
   "cell_type": "markdown",
   "metadata": {},
   "source": [
    "There is a lot more that you can do with outputs (such as including interactive outputs)\n",
    "with your book. For more information about this, see [the Jupyter Book documentation](https://jupyterbook.org)\n"
   ]
  },
  {
   "cell_type": "markdown",
   "metadata": {},
   "source": [
    "# Обработка информации об уязвимостях полученных из CVE Project (https://github.com/CVEProject/cvelistV5)\n"
   ]
  },
  {
   "cell_type": "code",
   "execution_count": 21,
   "metadata": {},
   "outputs": [],
   "source": [
    "from concurrent.futures import ThreadPoolExecutor\n",
    "import httpx\n",
    "import zipfile\n",
    "import tempfile\n",
    "from pathlib import Path\n",
    "import orjson as ojson\n",
    "from typing import Any\n",
    "import polars as pl\n",
    "import seaborn as sns\n",
    "import matplotlib.pyplot as plt\n",
    "from const import CVE_PROJECT_CVES_DATA_PATH"
   ]
  },
  {
   "cell_type": "markdown",
   "metadata": {},
   "source": [
    "## Скачивание данных\n"
   ]
  },
  {
   "cell_type": "code",
   "execution_count": 18,
   "metadata": {},
   "outputs": [],
   "source": [
    "CVE_ZIP_URL = \"https://github.com/CVEProject/cvelistV5/releases/download/cve_2024-01-05_1500Z/2024-01-05_all_CVEs_at_midnight.zip.zip\"\n",
    "# Download archive\n",
    "resp = httpx.get(CVE_ZIP_URL, follow_redirects=True)\n",
    "\n",
    "with tempfile.TemporaryDirectory() as tmpdir:\n",
    "    tmp_path = Path(tmpdir)\n",
    "\n",
    "    with (tmp_path / \"cve.zip.zip\").open(\"wb\") as f:\n",
    "        f.write(resp.content)\n",
    "\n",
    "    with zipfile.ZipFile(f.name, \"r\") as zip_ref:\n",
    "        tmp_zip = tmp_path / \"cves.zip\"\n",
    "        zip_ref.extractall(tmp_path)\n",
    "        with zipfile.ZipFile(tmp_zip) as zip_ref:\n",
    "            files_to_extract = [\n",
    "                name\n",
    "                for name in zip_ref.namelist()\n",
    "                if name.startswith(tuple(f\"cves/{year}/\" for year in range(2013, 2023)))\n",
    "            ]\n",
    "            zip_ref.extractall(members=files_to_extract)"
   ]
  },
  {
   "cell_type": "code",
   "execution_count": 2,
   "metadata": {},
   "outputs": [
    {
     "data": {
      "text/plain": [
       "175031"
      ]
     },
     "execution_count": 2,
     "metadata": {},
     "output_type": "execute_result"
    }
   ],
   "source": [
    "cves_data: list[dict[str, Any]] = []\n",
    "cves_folder = Path(\"cves/\")\n",
    "with ThreadPoolExecutor(20) as p:\n",
    "    filename: str\n",
    "    for filename, content in p.map(lambda fp: (fp.name, fp.read_text()), cves_folder.rglob(\"*.json\")):\n",
    "        data = ojson.loads(content)\n",
    "        data[\"cve_id\"] = filename[4:-5]\n",
    "        data[\"year\"] = filename[4:-9]\n",
    "        cves_data.append(data)\n",
    "\n",
    "len(cves_data)"
   ]
  },
  {
   "cell_type": "code",
   "execution_count": 5,
   "metadata": {},
   "outputs": [],
   "source": [
    "CWE_ZIP_URL = \"https://cwe.mitre.org/data/csv/1000.csv.zip\"\n",
    "# Download archive\n",
    "resp = httpx.get(CWE_ZIP_URL, follow_redirects=True)\n",
    "\n",
    "with tempfile.TemporaryDirectory() as tmpdir:\n",
    "    tmp_path = Path(tmpdir)\n",
    "\n",
    "    with (tmp_path / \"cwe.zip\").open(\"wb\") as f:\n",
    "        f.write(resp.content)\n",
    "\n",
    "    with zipfile.ZipFile(f.name, \"r\") as zip_ref:\n",
    "        cwes_folder = Path(\"cwes/\")\n",
    "        cwes_folder.mkdir(exist_ok=True)\n",
    "        zip_ref.extractall(cwes_folder)"
   ]
  },
  {
   "cell_type": "code",
   "execution_count": 3,
   "metadata": {},
   "outputs": [
    {
     "data": {
      "text/html": [
       "<div><style>\n",
       ".dataframe > thead > tr,\n",
       ".dataframe > tbody > tr {\n",
       "  text-align: right;\n",
       "  white-space: pre-wrap;\n",
       "}\n",
       "</style>\n",
       "<small>shape: (9, 24)</small><table border=\"1\" class=\"dataframe\"><thead><tr><th>describe</th><th>CWE-ID</th><th>Name</th><th>Weakness Abstraction</th><th>Status</th><th>Description</th><th>Extended Description</th><th>Related Weaknesses</th><th>Weakness Ordinalities</th><th>Applicable Platforms</th><th>Background Details</th><th>Alternate Terms</th><th>Modes Of Introduction</th><th>Exploitation Factors</th><th>Likelihood of Exploit</th><th>Common Consequences</th><th>Detection Methods</th><th>Potential Mitigations</th><th>Observed Examples</th><th>Functional Areas</th><th>Affected Resources</th><th>Taxonomy Mappings</th><th>Related Attack Patterns</th><th>Notes</th></tr><tr><td>str</td><td>f64</td><td>str</td><td>str</td><td>str</td><td>str</td><td>str</td><td>str</td><td>str</td><td>str</td><td>str</td><td>str</td><td>str</td><td>str</td><td>str</td><td>str</td><td>str</td><td>str</td><td>str</td><td>str</td><td>str</td><td>str</td><td>str</td><td>str</td></tr></thead><tbody><tr><td>&quot;count&quot;</td><td>934.0</td><td>&quot;934&quot;</td><td>&quot;934&quot;</td><td>&quot;934&quot;</td><td>&quot;934&quot;</td><td>&quot;934&quot;</td><td>&quot;934&quot;</td><td>&quot;934&quot;</td><td>&quot;934&quot;</td><td>&quot;934&quot;</td><td>&quot;934&quot;</td><td>&quot;934&quot;</td><td>&quot;934&quot;</td><td>&quot;934&quot;</td><td>&quot;934&quot;</td><td>&quot;934&quot;</td><td>&quot;934&quot;</td><td>&quot;934&quot;</td><td>&quot;934&quot;</td><td>&quot;934&quot;</td><td>&quot;934&quot;</td><td>&quot;934&quot;</td><td>&quot;934&quot;</td></tr><tr><td>&quot;null_count&quot;</td><td>0.0</td><td>&quot;0&quot;</td><td>&quot;0&quot;</td><td>&quot;0&quot;</td><td>&quot;0&quot;</td><td>&quot;0&quot;</td><td>&quot;9&quot;</td><td>&quot;0&quot;</td><td>&quot;213&quot;</td><td>&quot;0&quot;</td><td>&quot;0&quot;</td><td>&quot;0&quot;</td><td>&quot;0&quot;</td><td>&quot;934&quot;</td><td>&quot;0&quot;</td><td>&quot;0&quot;</td><td>&quot;0&quot;</td><td>&quot;0&quot;</td><td>&quot;902&quot;</td><td>&quot;883&quot;</td><td>&quot;0&quot;</td><td>&quot;598&quot;</td><td>&quot;0&quot;</td></tr><tr><td>&quot;mean&quot;</td><td>612.599572</td><td>null</td><td>null</td><td>null</td><td>null</td><td>null</td><td>null</td><td>null</td><td>null</td><td>null</td><td>null</td><td>null</td><td>null</td><td>null</td><td>null</td><td>null</td><td>null</td><td>null</td><td>null</td><td>null</td><td>null</td><td>null</td><td>null</td></tr><tr><td>&quot;std&quot;</td><td>404.050165</td><td>null</td><td>null</td><td>null</td><td>null</td><td>null</td><td>null</td><td>null</td><td>null</td><td>null</td><td>null</td><td>null</td><td>null</td><td>null</td><td>null</td><td>null</td><td>null</td><td>null</td><td>null</td><td>null</td><td>null</td><td>null</td><td>null</td></tr><tr><td>&quot;min&quot;</td><td>5.0</td><td>&quot;.NET Misconfig…</td><td>&quot;Base&quot;</td><td>&quot;Draft&quot;</td><td>&quot;A J2EE applica…</td><td>&quot;&quot;</td><td>&quot;::NATURE:CanPr…</td><td>&quot;&quot;</td><td>&quot;::ARCHITECTURE…</td><td>&quot;&quot;</td><td>&quot;&quot;</td><td>&quot;&quot;</td><td>&quot;&quot;</td><td>null</td><td>&quot;&quot;</td><td>&quot;&quot;</td><td>&quot;&quot;</td><td>&quot;&quot;</td><td>&quot;::Authenticati…</td><td>&quot;::CPU::&quot;</td><td>&quot;&quot;</td><td>&quot;::100::&quot;</td><td>&quot;&quot;</td></tr><tr><td>&quot;25%&quot;</td><td>273.0</td><td>null</td><td>null</td><td>null</td><td>null</td><td>null</td><td>null</td><td>null</td><td>null</td><td>null</td><td>null</td><td>null</td><td>null</td><td>null</td><td>null</td><td>null</td><td>null</td><td>null</td><td>null</td><td>null</td><td>null</td><td>null</td><td>null</td></tr><tr><td>&quot;50%&quot;</td><td>551.0</td><td>null</td><td>null</td><td>null</td><td>null</td><td>null</td><td>null</td><td>null</td><td>null</td><td>null</td><td>null</td><td>null</td><td>null</td><td>null</td><td>null</td><td>null</td><td>null</td><td>null</td><td>null</td><td>null</td><td>null</td><td>null</td><td>null</td></tr><tr><td>&quot;75%&quot;</td><td>941.0</td><td>null</td><td>null</td><td>null</td><td>null</td><td>null</td><td>null</td><td>null</td><td>null</td><td>null</td><td>null</td><td>null</td><td>null</td><td>null</td><td>null</td><td>null</td><td>null</td><td>null</td><td>null</td><td>null</td><td>null</td><td>null</td><td>null</td></tr><tr><td>&quot;max&quot;</td><td>1419.0</td><td>&quot;finalize() Met…</td><td>&quot;Variant&quot;</td><td>&quot;Stable&quot;</td><td>&quot;[PLANNED FOR D…</td><td>&quot;XML documents …</td><td>&quot;::NATURE:Start…</td><td>&quot;::ORDINALITY:R…</td><td>&quot;::TECHNOLOGY N…</td><td>&quot;::Windows prov…</td><td>&quot;::TERM:tabnabb…</td><td>&quot;::PHASE:Testin…</td><td>&quot;&quot;</td><td>null</td><td>&quot;::SCOPE:Other:…</td><td>&quot;::METHOD:White…</td><td>&quot;::PHASE:Testin…</td><td>&quot;::REFERENCE:CV…</td><td>&quot;::Signals::Int…</td><td>&quot;::System Proce…</td><td>&quot;::TAXONOMY NAM…</td><td>&quot;::97::&quot;</td><td>&quot;::TYPE:Theoret…</td></tr></tbody></table></div>"
      ],
      "text/plain": [
       "shape: (9, 24)\n",
       "┌───────────┬───────────┬───────────┬───────────┬───┬───────────┬───────────┬───────────┬──────────┐\n",
       "│ describe  ┆ CWE-ID    ┆ Name      ┆ Weakness  ┆ … ┆ Affected  ┆ Taxonomy  ┆ Related   ┆ Notes    │\n",
       "│ ---       ┆ ---       ┆ ---       ┆ Abstracti ┆   ┆ Resources ┆ Mappings  ┆ Attack    ┆ ---      │\n",
       "│ str       ┆ f64       ┆ str       ┆ on        ┆   ┆ ---       ┆ ---       ┆ Patterns  ┆ str      │\n",
       "│           ┆           ┆           ┆ ---       ┆   ┆ str       ┆ str       ┆ ---       ┆          │\n",
       "│           ┆           ┆           ┆ str       ┆   ┆           ┆           ┆ str       ┆          │\n",
       "╞═══════════╪═══════════╪═══════════╪═══════════╪═══╪═══════════╪═══════════╪═══════════╪══════════╡\n",
       "│ count     ┆ 934.0     ┆ 934       ┆ 934       ┆ … ┆ 934       ┆ 934       ┆ 934       ┆ 934      │\n",
       "│ null_coun ┆ 0.0       ┆ 0         ┆ 0         ┆ … ┆ 883       ┆ 0         ┆ 598       ┆ 0        │\n",
       "│ t         ┆           ┆           ┆           ┆   ┆           ┆           ┆           ┆          │\n",
       "│ mean      ┆ 612.59957 ┆ null      ┆ null      ┆ … ┆ null      ┆ null      ┆ null      ┆ null     │\n",
       "│           ┆ 2         ┆           ┆           ┆   ┆           ┆           ┆           ┆          │\n",
       "│ std       ┆ 404.05016 ┆ null      ┆ null      ┆ … ┆ null      ┆ null      ┆ null      ┆ null     │\n",
       "│           ┆ 5         ┆           ┆           ┆   ┆           ┆           ┆           ┆          │\n",
       "│ min       ┆ 5.0       ┆ .NET Misc ┆ Base      ┆ … ┆ ::CPU::   ┆           ┆ ::100::   ┆          │\n",
       "│           ┆           ┆ onfigurat ┆           ┆   ┆           ┆           ┆           ┆          │\n",
       "│           ┆           ┆ ion: Use  ┆           ┆   ┆           ┆           ┆           ┆          │\n",
       "│           ┆           ┆ of Im…    ┆           ┆   ┆           ┆           ┆           ┆          │\n",
       "│ 25%       ┆ 273.0     ┆ null      ┆ null      ┆ … ┆ null      ┆ null      ┆ null      ┆ null     │\n",
       "│ 50%       ┆ 551.0     ┆ null      ┆ null      ┆ … ┆ null      ┆ null      ┆ null      ┆ null     │\n",
       "│ 75%       ┆ 941.0     ┆ null      ┆ null      ┆ … ┆ null      ┆ null      ┆ null      ┆ null     │\n",
       "│ max       ┆ 1419.0    ┆ finalize( ┆ Variant   ┆ … ┆ ::System  ┆ ::TAXONOM ┆ ::97::    ┆ ::TYPE:T │\n",
       "│           ┆           ┆ ) Method  ┆           ┆   ┆ Process:: ┆ Y NAME:WA ┆           ┆ heoretic │\n",
       "│           ┆           ┆ Without   ┆           ┆   ┆ File or   ┆ SC:ENTRY  ┆           ┆ al:NOTE: │\n",
       "│           ┆           ┆ super.…   ┆           ┆   ┆ Direct…   ┆ ID:49…    ┆           ┆ This is  │\n",
       "│           ┆           ┆           ┆           ┆   ┆           ┆           ┆           ┆ …        │\n",
       "└───────────┴───────────┴───────────┴───────────┴───┴───────────┴───────────┴───────────┴──────────┘"
      ]
     },
     "execution_count": 3,
     "metadata": {},
     "output_type": "execute_result"
    }
   ],
   "source": [
    "cwes = pl.read_csv(\"cwes/1000.csv\", truncate_ragged_lines=True)\n",
    "cwes.describe()"
   ]
  },
  {
   "cell_type": "markdown",
   "metadata": {},
   "source": [
    "## Обработка CWE типов\n"
   ]
  },
  {
   "cell_type": "code",
   "execution_count": 4,
   "metadata": {},
   "outputs": [
    {
     "data": {
      "text/plain": [
       "160649"
      ]
     },
     "execution_count": 4,
     "metadata": {},
     "output_type": "execute_result"
    }
   ],
   "source": [
    "# Get only cves with cwe\n",
    "cves_with_cwe_data: list[dict[str, Any]] = []\n",
    "for cve_data in cves_data:\n",
    "    problem_types = cve_data[\"containers\"][\"cna\"].get(\"problemTypes\")\n",
    "    if problem_types:\n",
    "        cves_with_cwe_data.append(cve_data)\n",
    "\n",
    "len(cves_with_cwe_data)"
   ]
  },
  {
   "cell_type": "markdown",
   "metadata": {},
   "source": [
    "## Обработка данных"
   ]
  },
  {
   "cell_type": "code",
   "execution_count": 13,
   "metadata": {},
   "outputs": [
    {
     "data": {
      "text/html": [
       "<div><style>\n",
       ".dataframe > thead > tr,\n",
       ".dataframe > tbody > tr {\n",
       "  text-align: right;\n",
       "  white-space: pre-wrap;\n",
       "}\n",
       "</style>\n",
       "<small>shape: (9, 4)</small><table border=\"1\" class=\"dataframe\"><thead><tr><th>describe</th><th>cve_id</th><th>cwe_id</th><th>score</th></tr><tr><td>str</td><td>str</td><td>str</td><td>f64</td></tr></thead><tbody><tr><td>&quot;count&quot;</td><td>&quot;176206&quot;</td><td>&quot;176206&quot;</td><td>176206.0</td></tr><tr><td>&quot;null_count&quot;</td><td>&quot;0&quot;</td><td>&quot;135915&quot;</td><td>146653.0</td></tr><tr><td>&quot;mean&quot;</td><td>null</td><td>null</td><td>6.5841</td></tr><tr><td>&quot;std&quot;</td><td>null</td><td>null</td><td>1.799266</td></tr><tr><td>&quot;min&quot;</td><td>&quot;2013-0001&quot;</td><td>&quot;CWE-1004&quot;</td><td>0.0</td></tr><tr><td>&quot;25%&quot;</td><td>null</td><td>null</td><td>5.4</td></tr><tr><td>&quot;50%&quot;</td><td>null</td><td>null</td><td>6.5</td></tr><tr><td>&quot;75%&quot;</td><td>null</td><td>null</td><td>7.8</td></tr><tr><td>&quot;max&quot;</td><td>&quot;2023-6622&quot;</td><td>&quot;CWE-99&quot;</td><td>10.0</td></tr></tbody></table></div>"
      ],
      "text/plain": [
       "shape: (9, 4)\n",
       "┌────────────┬───────────┬──────────┬──────────┐\n",
       "│ describe   ┆ cve_id    ┆ cwe_id   ┆ score    │\n",
       "│ ---        ┆ ---       ┆ ---      ┆ ---      │\n",
       "│ str        ┆ str       ┆ str      ┆ f64      │\n",
       "╞════════════╪═══════════╪══════════╪══════════╡\n",
       "│ count      ┆ 176206    ┆ 176206   ┆ 176206.0 │\n",
       "│ null_count ┆ 0         ┆ 135915   ┆ 146653.0 │\n",
       "│ mean       ┆ null      ┆ null     ┆ 6.5841   │\n",
       "│ std        ┆ null      ┆ null     ┆ 1.799266 │\n",
       "│ min        ┆ 2013-0001 ┆ CWE-1004 ┆ 0.0      │\n",
       "│ 25%        ┆ null      ┆ null     ┆ 5.4      │\n",
       "│ 50%        ┆ null      ┆ null     ┆ 6.5      │\n",
       "│ 75%        ┆ null      ┆ null     ┆ 7.8      │\n",
       "│ max        ┆ 2023-6622 ┆ CWE-99   ┆ 10.0     │\n",
       "└────────────┴───────────┴──────────┴──────────┘"
      ]
     },
     "execution_count": 13,
     "metadata": {},
     "output_type": "execute_result"
    }
   ],
   "source": [
    "vulnerabilities_data: list[dict[str, str | float | None]] = []\n",
    "for cve in cves_data:\n",
    "    has_cwe = False\n",
    "    for problem_type in cve[\"containers\"][\"cna\"].get(\"problemTypes\", []):\n",
    "        for cwe_description in problem_type[\"descriptions\"]:\n",
    "            if cwe_description.get(\"cweId\"):\n",
    "                score = None\n",
    "                has_cwe = True\n",
    "                if metrics := cve[\"containers\"][\"cna\"].get(\"metrics\"):\n",
    "                    for metric in metrics:\n",
    "                        if \"cvssV3_1\" in metric:\n",
    "                            score = float(metric[\"cvssV3_1\"][\"baseScore\"])\n",
    "                        if \"cvssV3_0\" in metric and score is None:\n",
    "                            score = float(metric[\"cvssV3_0\"][\"baseScore\"])\n",
    "\n",
    "                vulnerabilities_data.append(\n",
    "                    {\n",
    "                        \"cve_id\": cve[\"cve_id\"],\n",
    "                        \"cwe_id\": cwe_description[\"cweId\"],\n",
    "                        \"score\": score,\n",
    "                    }\n",
    "                )\n",
    "    if not has_cwe:\n",
    "        vulnerabilities_data.append(\n",
    "            {\n",
    "                \"cve_id\": cve[\"cve_id\"],\n",
    "                \"cwe_id\": None,\n",
    "                \"score\": None,\n",
    "            }\n",
    "        )\n",
    "vulnerabilities: pl.DataFrame = pl.from_dicts(\n",
    "    vulnerabilities_data, schema={\"cve_id\": str, \"cwe_id\": str, \"score\": float}\n",
    ")\n",
    "vulnerabilities.describe()"
   ]
  },
  {
   "cell_type": "code",
   "execution_count": 14,
   "metadata": {},
   "outputs": [
    {
     "data": {
      "image/png": "[encoded data removed]",
      "text/plain": [
       "<Figure size 1500x1000 with 2 Axes>"
      ]
     },
     "metadata": {},
     "output_type": "display_data"
    }
   ],
   "source": [
    "fig, ax = plt.subplots(2, figsize=(15, 10))\n",
    "top_vulnerabilities = vulnerabilities.group_by(\"cwe_id\").count().sort(\"count\", descending=True).limit(15)\n",
    "top_ids = top_vulnerabilities.select(\"cwe_id\").to_series().to_list()\n",
    "ax[1].set_ylim(5, 9)\n",
    "sns.barplot(top_vulnerabilities, x=\"cwe_id\", y=\"count\", ax=ax[0])\n",
    "sns.barplot(\n",
    "    top_vulnerabilities.select(\"cwe_id\").join(\n",
    "        vulnerabilities.filter(pl.col(\"cwe_id\").is_in(top_ids)).group_by(\"cwe_id\").mean(), on=\"cwe_id\", how=\"left\"\n",
    "    ),\n",
    "    x=\"cwe_id\",\n",
    "    y=\"score\",\n",
    "    ax=ax[1],\n",
    ")\n",
    "plt.show()"
   ]
  },
  {
   "cell_type": "markdown",
   "metadata": {},
   "source": []
  },
  {
   "cell_type": "code",
   "execution_count": 15,
   "metadata": {},
   "outputs": [
    {
     "name": "stdout",
     "output_type": "stream",
     "text": [
      "shape: (14, 3)\n",
      "┌────────┬─────────────────────────────────────────────────────────────────────┬─────────────────────────────────────────────────────────────────────┐\n",
      "│ cwe_id ┆ Name                                                                ┆ Description                                                         │\n",
      "│ ---    ┆ ---                                                                 ┆ ---                                                                 │\n",
      "│ i64    ┆ str                                                                 ┆ str                                                                 │\n",
      "╞════════╪═════════════════════════════════════════════════════════════════════╪═════════════════════════════════════════════════════════════════════╡\n",
      "│ 20     ┆ Improper Input Validation                                           ┆ The product receives input or data, but it does not validate or     │\n",
      "│        ┆                                                                     ┆ incorrectly validates that the input has the properties that are    │\n",
      "│        ┆                                                                     ┆ required to process the data safely and correctly.                  │\n",
      "│ 22     ┆ Improper Limitation of a Pathname to a Restricted Directory ('Path  ┆ The product uses external input to construct a pathname that is     │\n",
      "│        ┆ Traversal')                                                         ┆ intended to identify a file or directory that is located underneath │\n",
      "│        ┆                                                                     ┆ a restricted parent directory, but the product does not properly    │\n",
      "│        ┆                                                                     ┆ neu…                                                                │\n",
      "│ 78     ┆ Improper Neutralization of Special Elements used in an OS Command   ┆ The product constructs all or part of an OS command using           │\n",
      "│        ┆ ('OS Command Injection')                                            ┆ externally-influenced input from an upstream component, but it does │\n",
      "│        ┆                                                                     ┆ not neutralize or incorrectly neutralizes special elements that     │\n",
      "│        ┆                                                                     ┆ could modi…                                                         │\n",
      "│ 79     ┆ Improper Neutralization of Input During Web Page Generation         ┆ The product does not neutralize or incorrectly neutralizes          │\n",
      "│        ┆ ('Cross-site Scripting')                                            ┆ user-controllable input before it is placed in output that is used  │\n",
      "│        ┆                                                                     ┆ as a web page that is served to other users.                        │\n",
      "│ 89     ┆ Improper Neutralization of Special Elements used in an SQL Command  ┆ The product constructs all or part of an SQL command using          │\n",
      "│        ┆ ('SQL Injection')                                                   ┆ externally-influenced input from an upstream component, but it does │\n",
      "│        ┆                                                                     ┆ not neutralize or incorrectly neutralizes special elements that     │\n",
      "│        ┆                                                                     ┆ could mod…                                                          │\n",
      "│ 121    ┆ Stack-based Buffer Overflow                                         ┆ A stack-based buffer overflow condition is a condition where the    │\n",
      "│        ┆                                                                     ┆ buffer being overwritten is allocated on the stack (i.e., is a      │\n",
      "│        ┆                                                                     ┆ local variable or, rarely, a parameter to a function).              │\n",
      "│ 125    ┆ Out-of-bounds Read                                                  ┆ The product reads data past the end, or before the beginning, of    │\n",
      "│        ┆                                                                     ┆ the intended buffer.                                                │\n",
      "│ 200    ┆ Exposure of Sensitive Information to an Unauthorized Actor          ┆ The product exposes sensitive information to an actor that is not   │\n",
      "│        ┆                                                                     ┆ explicitly authorized to have access to that information.           │\n",
      "│ 284    ┆ Improper Access Control                                             ┆ The product does not restrict or incorrectly restricts access to a  │\n",
      "│        ┆                                                                     ┆ resource from an unauthorized actor.                                │\n",
      "│ 287    ┆ Improper Authentication                                             ┆ When an actor claims to have a given identity, the product does not │\n",
      "│        ┆                                                                     ┆ prove or insufficiently proves that the claim is correct.           │\n",
      "│ 352    ┆ Cross-Site Request Forgery (CSRF)                                   ┆ The web application does not, or can not, sufficiently verify       │\n",
      "│        ┆                                                                     ┆ whether a well-formed, valid, consistent request was intentionally  │\n",
      "│        ┆                                                                     ┆ provided by the user who submitted the request.                     │\n",
      "│ 400    ┆ Uncontrolled Resource Consumption                                   ┆ The product does not properly control the allocation and            │\n",
      "│        ┆                                                                     ┆ maintenance of a limited resource, thereby enabling an actor to     │\n",
      "│        ┆                                                                     ┆ influence the amount of resources consumed, eventually leading to   │\n",
      "│        ┆                                                                     ┆ the exhaustio…                                                      │\n",
      "│ 416    ┆ Use After Free                                                      ┆ Referencing memory after it has been freed can cause a program to   │\n",
      "│        ┆                                                                     ┆ crash, use unexpected values, or execute code.                      │\n",
      "│ 787    ┆ Out-of-bounds Write                                                 ┆ The product writes data past the end, or before the beginning, of   │\n",
      "│        ┆                                                                     ┆ the intended buffer.                                                │\n",
      "└────────┴─────────────────────────────────────────────────────────────────────┴─────────────────────────────────────────────────────────────────────┘\n"
     ]
    }
   ],
   "source": [
    "with pl.Config(fmt_str_lengths=200, tbl_width_chars=150, tbl_rows=20):\n",
    "    print(\n",
    "        top_vulnerabilities.select(pl.col(\"cwe_id\").str.slice(4).cast(pl.Int64)).join(\n",
    "            cwes.rename({\"CWE-ID\": \"cwe_id\"}).select([\"cwe_id\", \"Name\", \"Description\"]), on=\"cwe_id\"\n",
    "        )\n",
    "    )"
   ]
  },
  {
   "cell_type": "code",
   "execution_count": 16,
   "metadata": {},
   "outputs": [],
   "source": [
    "cve_project_cves: list[dict[str, Any]] = []\n",
    "filled_affected_count = 0\n",
    "for cve_data in cves_data:\n",
    "    # if affected := cve_data[\"containers\"][\"cna\"].get(\"affected\"):\n",
    "    #     affected_products: list[str | None] = []\n",
    "    #     for affected_product in cve_data[\"containers\"][\"cna\"].get(\"affected\", []):\n",
    "    #         if \"versions\" in affected_product:\n",
    "    #             affected_product.pop(\"versions\")\n",
    "    #         affected_products.append(affected_product.get(\"product\"))\n",
    "\n",
    "    references: list[str] = []\n",
    "    for reference in cve_data[\"containers\"][\"cna\"].get(\"references\", []):\n",
    "        if url := reference[\"url\"]:\n",
    "            references.append(url)\n",
    "    cve_project_cves.append({\"cve_id\": cve_data[\"cve_id\"], \"reference\": references})\n",
    "\n",
    "# f\"Percentage with known CWE: {filled_affected_count * 100 / len(cves_data):.2f}%\""
   ]
  },
  {
   "cell_type": "code",
   "execution_count": 22,
   "metadata": {},
   "outputs": [
    {
     "data": {
      "text/html": [
       "<div><style>\n",
       ".dataframe > thead > tr,\n",
       ".dataframe > tbody > tr {\n",
       "  text-align: right;\n",
       "  white-space: pre-wrap;\n",
       "}\n",
       "</style>\n",
       "<small>shape: (9, 4)</small><table border=\"1\" class=\"dataframe\"><thead><tr><th>describe</th><th>cve_id</th><th>reference</th><th>cwe_id</th></tr><tr><td>str</td><td>str</td><td>str</td><td>str</td></tr></thead><tbody><tr><td>&quot;count&quot;</td><td>&quot;489547&quot;</td><td>&quot;489547&quot;</td><td>&quot;489547&quot;</td></tr><tr><td>&quot;null_count&quot;</td><td>&quot;0&quot;</td><td>&quot;11917&quot;</td><td>&quot;400211&quot;</td></tr><tr><td>&quot;mean&quot;</td><td>null</td><td>null</td><td>null</td></tr><tr><td>&quot;std&quot;</td><td>null</td><td>null</td><td>null</td></tr><tr><td>&quot;min&quot;</td><td>&quot;2013-0001&quot;</td><td>&quot;ftp://FTP2.DLI…</td><td>&quot;CWE-1004&quot;</td></tr><tr><td>&quot;25%&quot;</td><td>null</td><td>null</td><td>null</td></tr><tr><td>&quot;50%&quot;</td><td>null</td><td>null</td><td>null</td></tr><tr><td>&quot;75%&quot;</td><td>null</td><td>null</td><td>null</td></tr><tr><td>&quot;max&quot;</td><td>&quot;2023-6622&quot;</td><td>&quot;ttps://www.clo…</td><td>&quot;CWE-99&quot;</td></tr></tbody></table></div>"
      ],
      "text/plain": [
       "shape: (9, 4)\n",
       "┌────────────┬───────────┬───────────────────────────────────┬──────────┐\n",
       "│ describe   ┆ cve_id    ┆ reference                         ┆ cwe_id   │\n",
       "│ ---        ┆ ---       ┆ ---                               ┆ ---      │\n",
       "│ str        ┆ str       ┆ str                               ┆ str      │\n",
       "╞════════════╪═══════════╪═══════════════════════════════════╪══════════╡\n",
       "│ count      ┆ 489547    ┆ 489547                            ┆ 489547   │\n",
       "│ null_count ┆ 0         ┆ 11917                             ┆ 400211   │\n",
       "│ mean       ┆ null      ┆ null                              ┆ null     │\n",
       "│ std        ┆ null      ┆ null                              ┆ null     │\n",
       "│ min        ┆ 2013-0001 ┆ ftp://FTP2.DLINK.COM/SECURITY_AD… ┆ CWE-1004 │\n",
       "│ 25%        ┆ null      ┆ null                              ┆ null     │\n",
       "│ 50%        ┆ null      ┆ null                              ┆ null     │\n",
       "│ 75%        ┆ null      ┆ null                              ┆ null     │\n",
       "│ max        ┆ 2023-6622 ┆ ttps://www.cloudflare.com/learni… ┆ CWE-99   │\n",
       "└────────────┴───────────┴───────────────────────────────────┴──────────┘"
      ]
     },
     "execution_count": 22,
     "metadata": {},
     "output_type": "execute_result"
    }
   ],
   "source": [
    "products_cves = pl.DataFrame(cve_project_cves)\n",
    "products_cves = products_cves.explode(\"reference\")\n",
    "products_cves = products_cves.join(vulnerabilities.select([\"cwe_id\", \"cve_id\"]), on=\"cve_id\", how=\"left\")\n",
    "products_cves.write_csv(CVE_PROJECT_CVES_DATA_PATH)\n",
    "products_cves.describe()"
   ]
  },
  {
   "cell_type": "code",
   "execution_count": 13,
   "metadata": {},
   "outputs": [],
   "source": [
    "cve_project_path = Path(\"results/cve_project_cves.csv\")\n",
    "github_path = Path(\"results/github_cves.csv\")\n",
    "github_commit_path = Path(\"results/github_commit_data.csv\")"
   ]
  },
  {
   "cell_type": "markdown",
   "metadata": {},
   "source": [
    "## Фильтрация проектов без открытого исходного кода"
   ]
  },
  {
   "cell_type": "code",
   "execution_count": 1,
   "metadata": {},
   "outputs": [
    {
     "ename": "NameError",
     "evalue": "name 'pl' is not defined",
     "output_type": "error",
     "traceback": [
      "\u001b[0;31m---------------------------------------------------------------------------\u001b[0m",
      "\u001b[0;31mNameError\u001b[0m                                 Traceback (most recent call last)",
      "Cell \u001b[0;32mIn[1], line 1\u001b[0m\n\u001b[0;32m----> 1\u001b[0m products_to_include: \u001b[38;5;28mset\u001b[39m[\u001b[38;5;28mstr\u001b[39m] \u001b[38;5;241m=\u001b[39m \u001b[38;5;28mset\u001b[39m(\u001b[43mpl\u001b[49m\u001b[38;5;241m.\u001b[39mread_csv(\u001b[38;5;124m\"\u001b[39m\u001b[38;5;124mopen_source_products.csv\u001b[39m\u001b[38;5;124m\"\u001b[39m)\u001b[38;5;241m.\u001b[39mto_series())\n\u001b[1;32m      2\u001b[0m filtered_cves: pl\u001b[38;5;241m.\u001b[39mDataFrame \u001b[38;5;241m=\u001b[39m products_cves\u001b[38;5;241m.\u001b[39mfilter(pl\u001b[38;5;241m.\u001b[39mcol(\u001b[38;5;124m\"\u001b[39m\u001b[38;5;124mproduct\u001b[39m\u001b[38;5;124m\"\u001b[39m)\u001b[38;5;241m.\u001b[39mis_in(products_to_include))\n\u001b[1;32m      3\u001b[0m \u001b[38;5;124mf\u001b[39m\u001b[38;5;124m\"\u001b[39m\u001b[38;5;124mOpen source cves percentage: \u001b[39m\u001b[38;5;132;01m{\u001b[39;00mfiltered_cves\u001b[38;5;241m.\u001b[39munique(\u001b[38;5;124m'\u001b[39m\u001b[38;5;124mcve_id\u001b[39m\u001b[38;5;124m'\u001b[39m)\u001b[38;5;241m.\u001b[39mshape[\u001b[38;5;241m0\u001b[39m]\u001b[38;5;250m \u001b[39m\u001b[38;5;241m*\u001b[39m\u001b[38;5;250m \u001b[39m\u001b[38;5;241m100\u001b[39m\u001b[38;5;250m \u001b[39m\u001b[38;5;241m/\u001b[39m\u001b[38;5;250m \u001b[39mproducts_cves\u001b[38;5;241m.\u001b[39munique(\u001b[38;5;124m'\u001b[39m\u001b[38;5;124mcve_id\u001b[39m\u001b[38;5;124m'\u001b[39m)\u001b[38;5;241m.\u001b[39mshape[\u001b[38;5;241m0\u001b[39m]\u001b[38;5;132;01m:\u001b[39;00m\u001b[38;5;124m.2f\u001b[39m\u001b[38;5;132;01m}\u001b[39;00m\u001b[38;5;124m%\u001b[39m\u001b[38;5;124m\"\u001b[39m\n",
      "\u001b[0;31mNameError\u001b[0m: name 'pl' is not defined"
     ]
    }
   ],
   "source": [
    "products_to_include: set[str] = set(pl.read_csv(\"open_source_products.csv\").to_series())\n",
    "filtered_cves: pl.DataFrame = products_cves.filter(pl.col(\"product\").is_in(products_to_include))\n",
    "f\"Open source cves percentage: {filtered_cves.unique('cve_id').shape[0] * 100 / products_cves.unique('cve_id').shape[0]:.2f}%\""
   ]
  },
  {
   "cell_type": "code",
   "execution_count": 15,
   "metadata": {},
   "outputs": [
    {
     "data": {
      "text/html": [
       "<div><style>\n",
       ".dataframe > thead > tr,\n",
       ".dataframe > tbody > tr {\n",
       "  text-align: right;\n",
       "  white-space: pre-wrap;\n",
       "}\n",
       "</style>\n",
       "<small>shape: (5, 3)</small><table border=\"1\" class=\"dataframe\"><thead><tr><th>cve_id</th><th>reference</th><th>cwe_id</th></tr><tr><td>str</td><td>str</td><td>str</td></tr></thead><tbody><tr><td>&quot;2022-2909&quot;</td><td>&quot;https://s1.ax1…</td><td>&quot;CWE-434&quot;</td></tr><tr><td>&quot;2022-2909&quot;</td><td>&quot;https://vuldb.…</td><td>&quot;CWE-434&quot;</td></tr><tr><td>&quot;2022-2323&quot;</td><td>&quot;https://psirt.…</td><td>&quot;CWE-77&quot;</td></tr><tr><td>&quot;2022-2289&quot;</td><td>&quot;https://huntr.…</td><td>&quot;CWE-416&quot;</td></tr><tr><td>&quot;2022-2289&quot;</td><td>&quot;https://github…</td><td>&quot;CWE-416&quot;</td></tr></tbody></table></div>"
      ],
      "text/plain": [
       "shape: (5, 3)\n",
       "┌───────────┬───────────────────────────────────┬─────────┐\n",
       "│ cve_id    ┆ reference                         ┆ cwe_id  │\n",
       "│ ---       ┆ ---                               ┆ ---     │\n",
       "│ str       ┆ str                               ┆ str     │\n",
       "╞═══════════╪═══════════════════════════════════╪═════════╡\n",
       "│ 2022-2909 ┆ https://s1.ax1x.com/2022/08/14/v… ┆ CWE-434 │\n",
       "│ 2022-2909 ┆ https://vuldb.com/?id.206845      ┆ CWE-434 │\n",
       "│ 2022-2323 ┆ https://psirt.global.sonicwall.c… ┆ CWE-77  │\n",
       "│ 2022-2289 ┆ https://huntr.dev/bounties/7447d… ┆ CWE-416 │\n",
       "│ 2022-2289 ┆ https://github.com/vim/vim/commi… ┆ CWE-416 │\n",
       "└───────────┴───────────────────────────────────┴─────────┘"
      ]
     },
     "execution_count": 15,
     "metadata": {},
     "output_type": "execute_result"
    }
   ],
   "source": [
    "Path(\"results\").mkdir(exist_ok=True)\n",
    "products_cves.head(5)"
   ]
  }
 ],
 "metadata": {
  "kernelspec": {
   "display_name": "Python 3",
   "language": "python",
   "name": "python3"
  },
  "language_info": {
   "codemirror_mode": {
    "name": "ipython",
    "version": 3
   },
   "file_extension": ".py",
   "mimetype": "text/x-python",
   "name": "python",
   "nbconvert_exporter": "python",
   "pygments_lexer": "ipython3",
   "version": "3.10.9"
  },
  "widgets": {
   "application/vnd.jupyter.widget-state+json": {
    "state": {},
    "version_major": 2,
    "version_minor": 0
   }
  }
 },
 "nbformat": 4,
 "nbformat_minor": 4
}
