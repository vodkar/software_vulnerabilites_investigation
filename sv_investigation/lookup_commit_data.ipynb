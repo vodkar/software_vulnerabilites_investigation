{
 "cells": [
  {
   "cell_type": "markdown",
   "metadata": {},
   "source": [
    "# Просмотр коммитов с уязвимостями"
   ]
  },
  {
   "cell_type": "code",
   "execution_count": 4,
   "metadata": {},
   "outputs": [],
   "source": [
    "import polars as pl\n",
    "from const import GITHUB_COMMIT_DATA_PATH, GITHUB_CVES_DATA_PATH, CVE_PROJECT_CVES_DATA_PATH\n",
    "from helpers import enrich_commits_data\n"
   ]
  },
  {
   "cell_type": "code",
   "execution_count": 22,
   "metadata": {},
   "outputs": [
    {
     "data": {
      "text/html": [
       "<div><style>\n",
       ".dataframe > thead > tr,\n",
       ".dataframe > tbody > tr {\n",
       "  text-align: right;\n",
       "  white-space: pre-wrap;\n",
       "}\n",
       "</style>\n",
       "<small>shape: (9, 15)</small><table border=\"1\" class=\"dataframe\"><thead><tr><th>describe</th><th>repo</th><th>commit</th><th>file</th><th>status</th><th>additions</th><th>deletions</th><th>changes</th><th>patch</th><th>file_url</th><th>cve_id</th><th>year</th><th>file_extension</th><th>language</th><th>cwe_id</th></tr><tr><td>str</td><td>str</td><td>str</td><td>str</td><td>str</td><td>f64</td><td>f64</td><td>f64</td><td>str</td><td>str</td><td>str</td><td>f64</td><td>str</td><td>str</td><td>str</td></tr></thead><tbody><tr><td>&quot;count&quot;</td><td>&quot;1679043&quot;</td><td>&quot;1679043&quot;</td><td>&quot;1679043&quot;</td><td>&quot;1679043&quot;</td><td>1.679043e6</td><td>1.679043e6</td><td>1.679043e6</td><td>&quot;1679043&quot;</td><td>&quot;1679043&quot;</td><td>&quot;1679043&quot;</td><td>1.679043e6</td><td>&quot;1679043&quot;</td><td>&quot;1679043&quot;</td><td>&quot;1679043&quot;</td></tr><tr><td>&quot;null_count&quot;</td><td>&quot;0&quot;</td><td>&quot;0&quot;</td><td>&quot;0&quot;</td><td>&quot;0&quot;</td><td>0.0</td><td>0.0</td><td>0.0</td><td>&quot;86838&quot;</td><td>&quot;4&quot;</td><td>&quot;0&quot;</td><td>0.0</td><td>&quot;0&quot;</td><td>&quot;0&quot;</td><td>&quot;529893&quot;</td></tr><tr><td>&quot;mean&quot;</td><td>null</td><td>null</td><td>null</td><td>null</td><td>46.809474</td><td>15.608341</td><td>62.417814</td><td>null</td><td>null</td><td>null</td><td>2019.810974</td><td>null</td><td>null</td><td>null</td></tr><tr><td>&quot;std&quot;</td><td>null</td><td>null</td><td>null</td><td>null</td><td>551.359934</td><td>277.326709</td><td>712.147564</td><td>null</td><td>null</td><td>null</td><td>2.816054</td><td>null</td><td>null</td><td>null</td></tr><tr><td>&quot;min&quot;</td><td>&quot;00xc/xml-rs&quot;</td><td>&quot;000030feb7a30f…</td><td>&quot;.DS_Store&quot;</td><td>&quot;added&quot;</td><td>0.0</td><td>0.0</td><td>0.0</td><td>&quot;@@ -0,0 +1 @@\n",
       "…</td><td>&quot;https://github…</td><td>&quot;1999-0199&quot;</td><td>1999.0</td><td>&quot;0/CREDITS&quot;</td><td>&quot;0/CREDITS&quot;</td><td>&quot;CWE-1004&quot;</td></tr><tr><td>&quot;25%&quot;</td><td>null</td><td>null</td><td>null</td><td>null</td><td>1.0</td><td>0.0</td><td>3.0</td><td>null</td><td>null</td><td>null</td><td>2018.0</td><td>null</td><td>null</td><td>null</td></tr><tr><td>&quot;50%&quot;</td><td>null</td><td>null</td><td>null</td><td>null</td><td>6.0</td><td>1.0</td><td>10.0</td><td>null</td><td>null</td><td>null</td><td>2020.0</td><td>null</td><td>null</td><td>null</td></tr><tr><td>&quot;75%&quot;</td><td>null</td><td>null</td><td>null</td><td>null</td><td>21.0</td><td>5.0</td><td>32.0</td><td>null</td><td>null</td><td>null</td><td>2022.0</td><td>null</td><td>null</td><td>null</td></tr><tr><td>&quot;max&quot;</td><td>&quot;zzxiang/extern…</td><td>&quot;v4&quot;</td><td>&quot;zproject/urls.…</td><td>&quot;renamed&quot;</td><td>107422.0</td><td>101208.0</td><td>208630.0</td><td>&quot;@@ -999,7 +999…</td><td>&quot;https://github…</td><td>&quot;2023-7076&quot;</td><td>2023.0</td><td>&quot;zsh-theme&quot;</td><td>&quot;zsh-theme&quot;</td><td>&quot;CWE-99&quot;</td></tr></tbody></table></div>"
      ],
      "text/plain": [
       "shape: (9, 15)\n",
       "┌───────────┬───────────┬───────────┬───────────┬───┬───────────┬───────────┬───────────┬──────────┐\n",
       "│ describe  ┆ repo      ┆ commit    ┆ file      ┆ … ┆ year      ┆ file_exte ┆ language  ┆ cwe_id   │\n",
       "│ ---       ┆ ---       ┆ ---       ┆ ---       ┆   ┆ ---       ┆ nsion     ┆ ---       ┆ ---      │\n",
       "│ str       ┆ str       ┆ str       ┆ str       ┆   ┆ f64       ┆ ---       ┆ str       ┆ str      │\n",
       "│           ┆           ┆           ┆           ┆   ┆           ┆ str       ┆           ┆          │\n",
       "╞═══════════╪═══════════╪═══════════╪═══════════╪═══╪═══════════╪═══════════╪═══════════╪══════════╡\n",
       "│ count     ┆ 1679043   ┆ 1679043   ┆ 1679043   ┆ … ┆ 1.679043e ┆ 1679043   ┆ 1679043   ┆ 1679043  │\n",
       "│           ┆           ┆           ┆           ┆   ┆ 6         ┆           ┆           ┆          │\n",
       "│ null_coun ┆ 0         ┆ 0         ┆ 0         ┆ … ┆ 0.0       ┆ 0         ┆ 0         ┆ 529893   │\n",
       "│ t         ┆           ┆           ┆           ┆   ┆           ┆           ┆           ┆          │\n",
       "│ mean      ┆ null      ┆ null      ┆ null      ┆ … ┆ 2019.8109 ┆ null      ┆ null      ┆ null     │\n",
       "│           ┆           ┆           ┆           ┆   ┆ 74        ┆           ┆           ┆          │\n",
       "│ std       ┆ null      ┆ null      ┆ null      ┆ … ┆ 2.816054  ┆ null      ┆ null      ┆ null     │\n",
       "│ min       ┆ 00xc/xml- ┆ 000030feb ┆ .DS_Store ┆ … ┆ 1999.0    ┆ 0/CREDITS ┆ 0/CREDITS ┆ CWE-1004 │\n",
       "│           ┆ rs        ┆ 7a30f1931 ┆           ┆   ┆           ┆           ┆           ┆          │\n",
       "│           ┆           ┆ 97f1aab8a ┆           ┆   ┆           ┆           ┆           ┆          │\n",
       "│           ┆           ┆ 7b04a…    ┆           ┆   ┆           ┆           ┆           ┆          │\n",
       "│ 25%       ┆ null      ┆ null      ┆ null      ┆ … ┆ 2018.0    ┆ null      ┆ null      ┆ null     │\n",
       "│ 50%       ┆ null      ┆ null      ┆ null      ┆ … ┆ 2020.0    ┆ null      ┆ null      ┆ null     │\n",
       "│ 75%       ┆ null      ┆ null      ┆ null      ┆ … ┆ 2022.0    ┆ null      ┆ null      ┆ null     │\n",
       "│ max       ┆ zzxiang/e ┆ v4        ┆ zproject/ ┆ … ┆ 2023.0    ┆ zsh-theme ┆ zsh-theme ┆ CWE-99   │\n",
       "│           ┆ xternal-m ┆           ┆ urls.py   ┆   ┆           ┆           ┆           ┆          │\n",
       "│           ┆ edia-with ┆           ┆           ┆   ┆           ┆           ┆           ┆          │\n",
       "│           ┆ out-i…    ┆           ┆           ┆   ┆           ┆           ┆           ┆          │\n",
       "└───────────┴───────────┴───────────┴───────────┴───┴───────────┴───────────┴───────────┴──────────┘"
      ]
     },
     "execution_count": 22,
     "metadata": {},
     "output_type": "execute_result"
    }
   ],
   "source": [
    "commits = enrich_commits_data(pl.read_csv(GITHUB_COMMIT_DATA_PATH))\n",
    "cve_data: pl.DataFrame = pl.concat(\n",
    "    [\n",
    "        pl.read_csv(GITHUB_CVES_DATA_PATH),\n",
    "        pl.read_csv(CVE_PROJECT_CVES_DATA_PATH).select([\"cve_id\", \"reference\", \"cwe_id\"]),\n",
    "    ]\n",
    ")\n",
    "commits = commits.join(cve_data.select(\"cve_id\", \"cwe_id\"), on=\"cve_id\")\n",
    "commits.describe()"
   ]
  },
  {
   "cell_type": "code",
   "execution_count": 26,
   "metadata": {},
   "outputs": [
    {
     "name": "stdout",
     "output_type": "stream",
     "text": [
      "shape: (166, 2)\n",
      "┌────────────────────────────────────────────────────────────────────────────────────────────────────────┬────────┐\n",
      "│ literal                                                                                                ┆ cwe_id │\n",
      "│ ---                                                                                                    ┆ ---    │\n",
      "│ str                                                                                                    ┆ str    │\n",
      "╞════════════════════════════════════════════════════════════════════════════════════════════════════════╪════════╡\n",
      "│ https://github.com/ceph/ceph/commit/af3fffab3b0f13057134d96e5d481e400d8bfd27                           ┆ CWE-79 │\n",
      "│ https://github.com/devsnd/cherrymusic/commit/62dec34a1ea0741400dd6b6c660d303dcd651e86                  ┆ CWE-79 │\n",
      "│ https://github.com/salopensource/sal/commit/145bb72daf8460bdedbbc9fb708d346283e7a568                   ┆ CWE-79 │\n",
      "│ https://github.com/liangliangyy/djangoblog/commit/c2bfdb18c5f32b13ea4b50aa689b8ea4beb38719             ┆ CWE-79 │\n",
      "│ https://github.com/yanheven/console/commit/ba908ae88d5925f4f6783eb234cc4ea95017472b                    ┆ CWE-79 │\n",
      "│ https://github.com/jupyter/notebook/commit/dd9876381f0ef09873d8c5f6f2063269172331e3                    ┆ CWE-79 │\n",
      "│ https://github.com/mapproxy/mapproxy/commit/420412aad45171e05752007a0a2350c03c28dfd8                   ┆ CWE-79 │\n",
      "│ https://github.com/octoprint/octoprint/commit/8087528e4a7ddd15c7d95ff662deb5ef7de90045                 ┆ CWE-79 │\n",
      "│ https://github.com/arachnys/cabot/commit/18708572cb0ed143842409419eada91160413973                      ┆ CWE-79 │\n",
      "│ https://github.com/lepture/mistune/commit/d6f0b6402299bf5a380e7b4e77bd80e8736630fe                     ┆ CWE-79 │\n",
      "│ …                                                                                                      ┆ …      │\n",
      "│ https://github.com/richardbarran/django-photologue/commit/960cb060ce5e2964e6d716ff787c72fc18a371e7     ┆ CWE-79 │\n",
      "│ https://github.com/zopefoundation/Zope/commit/26a55dbc301db417f47cafda6fe0f983b5690088                 ┆ CWE-79 │\n",
      "│ https://github.com/inveniosoftware/invenio-communities/commit/505da72c5acd7dfbd4148f884c73c9c3372b76f4 ┆ CWE-79 │\n",
      "│ https://github.com/ierror/django-js-reverse/commit/a3b57d1e4424e2fadabcd526d170c4868d55159c            ┆ CWE-79 │\n",
      "│ https://github.com/matrix-org/synapse/commit/e54746bdf7d5c831eabe4dcea76a7626f1de73df                  ┆ CWE-79 │\n",
      "│ https://github.com/django-helpdesk/django-helpdesk/commit/a22eb0673fe0b7784f99c6b5fd343b64a6700f06     ┆ CWE-79 │\n",
      "│ https://github.com/qutebrowser/qutebrowser/commit/4c9360237f186681b1e3f2a0f30c45161cf405c7             ┆ CWE-79 │\n",
      "│ https://github.com/flask-admin/flask-admin/commit/8af10e0b022464fdcb2da3d0ea5bbd2f11c0acd1             ┆ CWE-79 │\n",
      "│ https://github.com/bookwyrm-social/bookwyrm/commit/fe33fdcf564a6a5667aef75d5456bea08feab50d            ┆ CWE-79 │\n",
      "│ https://github.com/benjjvi/PyBB/commit/5defd922ab05a193a783392d447c6538628cf854                        ┆ CWE-79 │\n",
      "└────────────────────────────────────────────────────────────────────────────────────────────────────────┴────────┘\n"
     ]
    }
   ],
   "source": [
    "# Фильтрация коммитов связанных с python\n",
    "python_cves = set(commits.filter(pl.col(\"language\") == \"Python\").select(pl.col(\"cve_id\")).unique(\"cve_id\").to_series())\n",
    "python_commits = commits.filter(pl.col(\"cve_id\").is_in(python_cves), pl.col(\"cwe_id\") == \"CWE-79\", pl.col(\"commit\") != \"master\")\n",
    "with pl.Config(fmt_str_lengths=200, tbl_width_chars=150, tbl_rows=20):\n",
    "    print(\n",
    "        python_commits.select([\"repo\", \"commit\", \"cve_id\", \"cwe_id\"])\n",
    "        .unique()\n",
    "        .select(pl.format(\"https://github.com/{}/commit/{}\", pl.col(\"repo\"), pl.col(\"commit\")), \"cwe_id\")\n",
    "    )"
   ]
  },
  {
   "cell_type": "code",
   "execution_count": null,
   "metadata": {},
   "outputs": [],
   "source": []
  }
 ],
 "metadata": {
  "kernelspec": {
   "display_name": ".venv",
   "language": "python",
   "name": "python3"
  },
  "language_info": {
   "codemirror_mode": {
    "name": "ipython",
    "version": 3
   },
   "file_extension": ".py",
   "mimetype": "text/x-python",
   "name": "python",
   "nbconvert_exporter": "python",
   "pygments_lexer": "ipython3",
   "version": "3.10.9"
  }
 },
 "nbformat": 4,
 "nbformat_minor": 2
}
