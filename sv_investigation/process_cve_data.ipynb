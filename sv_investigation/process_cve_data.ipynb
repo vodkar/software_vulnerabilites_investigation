{
 "cells": [
  {
   "cell_type": "markdown",
   "metadata": {},
   "source": [
    "# Обработка данных об уязвимостях"
   ]
  },
  {
   "cell_type": "code",
   "execution_count": 1,
   "metadata": {},
   "outputs": [],
   "source": [
    "import plotly.express as px\n",
    "import polars as pl\n",
    "from os import environ\n",
    "from github import Github, Auth\n",
    "from github.Repository import Repository\n",
    "from ratelimiter import RateLimiter\n",
    "from const import GITHUB_COMMIT_DATA_PATH, GITHUB_CVES_DATA_PATH, CVE_PROJECT_CVES_DATA_PATH, RESULTED_IMAGES\n",
    "import seaborn as sns\n",
    "import matplotlib.pyplot as plt\n",
    "import numpy as np\n"
   ]
  },
  {
   "cell_type": "code",
   "execution_count": 2,
   "metadata": {},
   "outputs": [
    {
     "data": {
      "text/html": [
       "<div><style>\n",
       ".dataframe > thead > tr,\n",
       ".dataframe > tbody > tr {\n",
       "  text-align: right;\n",
       "  white-space: pre-wrap;\n",
       "}\n",
       "</style>\n",
       "<small>shape: (5, 4)</small><table border=\"1\" class=\"dataframe\"><thead><tr><th>cve_id</th><th>reference</th><th>cwe_id</th><th>year</th></tr><tr><td>str</td><td>str</td><td>str</td><td>i64</td></tr></thead><tbody><tr><td>&quot;2021-45835&quot;</td><td>&quot;https://github…</td><td>&quot;CWE-434&quot;</td><td>2021</td></tr><tr><td>&quot;2021-45835&quot;</td><td>&quot;https://github…</td><td>&quot;CWE-434&quot;</td><td>2021</td></tr><tr><td>&quot;2021-45835&quot;</td><td>&quot;https://www.ex…</td><td>&quot;CWE-434&quot;</td><td>2021</td></tr><tr><td>&quot;2022-26521&quot;</td><td>&quot;https://github…</td><td>&quot;CWE-434&quot;</td><td>2022</td></tr><tr><td>&quot;2022-26521&quot;</td><td>&quot;http://packets…</td><td>&quot;CWE-434&quot;</td><td>2022</td></tr></tbody></table></div>"
      ],
      "text/plain": [
       "shape: (5, 4)\n",
       "┌────────────┬───────────────────────────────────┬─────────┬──────┐\n",
       "│ cve_id     ┆ reference                         ┆ cwe_id  ┆ year │\n",
       "│ ---        ┆ ---                               ┆ ---     ┆ ---  │\n",
       "│ str        ┆ str                               ┆ str     ┆ i64  │\n",
       "╞════════════╪═══════════════════════════════════╪═════════╪══════╡\n",
       "│ 2021-45835 ┆ https://github.com/rskoolrash/On… ┆ CWE-434 ┆ 2021 │\n",
       "│ 2021-45835 ┆ https://github.com/rskoolrash/On… ┆ CWE-434 ┆ 2021 │\n",
       "│ 2021-45835 ┆ https://www.exploit-db.com/explo… ┆ CWE-434 ┆ 2021 │\n",
       "│ 2022-26521 ┆ https://github.com/sartlabs/0day… ┆ CWE-434 ┆ 2022 │\n",
       "│ 2022-26521 ┆ http://packetstormsecurity.com/f… ┆ CWE-434 ┆ 2022 │\n",
       "└────────────┴───────────────────────────────────┴─────────┴──────┘"
      ]
     },
     "execution_count": 2,
     "metadata": {},
     "output_type": "execute_result"
    }
   ],
   "source": [
    "cve_data: pl.DataFrame = pl.concat([pl.read_csv(GITHUB_CVES_DATA_PATH), pl.read_csv(CVE_PROJECT_CVES_DATA_PATH).select([\"cve_id\", \"reference\", \"cwe_id\"])])\n",
    "# Extact year from cve_id, so 2021-45835 is 2021\n",
    "cve_data = cve_data.with_columns(pl.col(\"cve_id\").str.split(by=\"-\").list.get(0).str.to_integer().alias(\"year\"))\n",
    "cve_data.head()"
   ]
  },
  {
   "cell_type": "code",
   "execution_count": 3,
   "metadata": {},
   "outputs": [
    {
     "name": "stdout",
     "output_type": "stream",
     "text": [
      "Соотношение количества уязвимостей с открытым исходным кодом к общему количеству: shape: (6, 2)\n",
      "┌──────┬──────────┐\n",
      "│ year ┆ ratio    │\n",
      "│ ---  ┆ ---      │\n",
      "│ i64  ┆ f64      │\n",
      "╞══════╪══════════╡\n",
      "│ 2018 ┆ 0.087974 │\n",
      "│ 2019 ┆ 0.089859 │\n",
      "│ 2020 ┆ 0.093468 │\n",
      "│ 2021 ┆ 0.106672 │\n",
      "│ 2022 ┆ 0.123922 │\n",
      "│ 2023 ┆ 0.107043 │\n",
      "└──────┴──────────┘\n"
     ]
    }
   ],
   "source": [
    "commit_refs = cve_data.filter(pl.col(\"reference\").str.contains(\"commit\")).drop_nulls()\n",
    "counted_data = (\n",
    "    cve_data.with_columns(pl.col(\"reference\").str.contains(\"commit\").alias(\"has_commit_link\"))\n",
    "    .group_by(by=[\"year\", \"cve_id\"])\n",
    "    .agg(pl.col(\"has_commit_link\").max().alias(\"has_commit_link\"))\n",
    "    .group_by(by=[\"year\"])\n",
    "    .agg(pl.col(\"has_commit_link\").sum().alias(\"with_commit_count\"), pl.count().alias(\"total_count\"))\n",
    "    .filter((pl.col(\"year\") >= 2018).and_(pl.col(\"year\") <= 2023))\n",
    "    .sort(by=\"year\")\n",
    ")\n",
    "print(\n",
    "    \"Соотношение количества уязвимостей с открытым исходным кодом к общему количеству: \"\n",
    "    f'{counted_data.select(pl.col(\"year\"), (pl.col(\"with_commit_count\") / pl.col(\"total_count\")).alias(\"ratio\"))}'\n",
    ")"
   ]
  },
  {
   "cell_type": "markdown",
   "metadata": {},
   "source": [
    "## Исследование полученных данных"
   ]
  },
  {
   "cell_type": "code",
   "execution_count": 4,
   "metadata": {},
   "outputs": [
    {
     "data": {
      "image/png": "[encoded data removed]",
      "text/plain": [
       "<Figure size 640x480 with 1 Axes>"
      ]
     },
     "metadata": {},
     "output_type": "display_data"
    }
   ],
   "source": [
    "x = np.arange(len(counted_data.select(\"year\")))  # the label locations\n",
    "width = 0.33  # the width of the bars\n",
    "\n",
    "fig, ax = plt.subplots(layout=\"constrained\")\n",
    "\n",
    "# for attribute, measurement in penguin_means.items():\n",
    "#     offset = width * multiplier\n",
    "#     rects = ax.bar(x + offset, measurement, width, label=attribute)\n",
    "#     ax.bar_label(rects, padding=3)\n",
    "#     multiplier += 1\n",
    "\n",
    "ax.bar_label(ax.bar(x, counted_data.select(\"with_commit_count\").to_series(), width, label=\"Есть ссылка на код\"))\n",
    "ax.bar_label(ax.bar(x + width, counted_data.select(\"total_count\").to_series(), width, label=\"Общее количество\"))\n",
    "\n",
    "# Add some text for labels, title and custom x-axis tick labels, etc.\n",
    "# ax.set_ylabel('Length (mm)')\n",
    "# ax.set_title('Penguin attributes by species')\n",
    "ax.set_xticks(x + width / 2, counted_data.select(\"year\").to_series())\n",
    "ax.legend(loc=\"upper left\", ncols=2)\n",
    "\n",
    "plt.show()"
   ]
  },
  {
   "cell_type": "markdown",
   "metadata": {},
   "source": [
    "## Получение информации о коммитах закрывающих уязвимость"
   ]
  },
  {
   "cell_type": "code",
   "execution_count": 5,
   "metadata": {},
   "outputs": [],
   "source": [
    "github_refs = commit_refs.filter(\n",
    "    pl.col(\"reference\").str.contains(r\"https:\\/\\/[w\\.]*github\\.com\\/([\\w\\-_]+\\/[\\w\\-_]+)\\/commit.*\")\n",
    ").with_columns(\n",
    "    pl.col(\"reference\")\n",
    "    .str.extract(r\"https:\\/\\/[w\\.]*github\\.com\\/([\\w\\-_]+\\/[\\w\\-_]+)\\/\", group_index=1)\n",
    "    .alias(\"repo\"),\n",
    "    pl.col(\"reference\").str.extract(r\".*\\/commits*\\/(\\w+)\", group_index=1).alias(\"commit\"),\n",
    ")"
   ]
  },
  {
   "cell_type": "markdown",
   "metadata": {},
   "source": [
    "## Процесс сбора данных о коммитах\n",
    "\n",
    "Будет работать долго, но если выполнение упадет, можно перезапустить и уже собранные данные не будет заново обновлять."
   ]
  },
  {
   "cell_type": "code",
   "execution_count": null,
   "metadata": {},
   "outputs": [],
   "source": [
    "auth = Auth.Token(environ[\"GITHUB_TOKEN\"])\n",
    "github_client = Github(auth=auth)\n",
    "repos: dict[str, Repository] = {}\n",
    "\n",
    "for repo_name in github_refs.select(\"repo\").unique(\"repo\").to_series():\n",
    "    if repo_name in repos:\n",
    "        continue\n",
    "    repos[repo_name] = github_client.get_repo(repo_name, lazy=True)\n",
    "\n",
    "commit_data: list[dict[str, str | int]] = []\n",
    "# You can use this to resume the script if it crashes\n",
    "checked_commits = {commit[\"commit\"] for commit in commit_data}\n",
    "rate_limiter = RateLimiter(max_calls=1, period=1)\n",
    "for commit in github_refs.iter_rows(named=True):\n",
    "    repo = repos[commit[\"repo\"]]\n",
    "    if commit[\"commit\"] in checked_commits:\n",
    "        continue\n",
    "    with rate_limiter:\n",
    "        try:\n",
    "            commit_obj = repo.get_commit(commit[\"commit\"])\n",
    "            for commited_file in commit_obj.files:\n",
    "                commit_data.append(\n",
    "                    {\n",
    "                        \"repo\": commit[\"repo\"],\n",
    "                        \"commit\": commit[\"commit\"],\n",
    "                        \"file\": commited_file.filename,\n",
    "                        \"status\": commited_file.status,\n",
    "                        \"additions\": commited_file.additions,\n",
    "                        \"deletions\": commited_file.deletions,\n",
    "                        \"changes\": commited_file.changes,\n",
    "                        \"patch\": commited_file.patch,\n",
    "                        \"file_url\": commited_file.raw_url,\n",
    "                    }\n",
    "                )\n",
    "        except Exception as e:\n",
    "            print(\"Error: \", e)\n",
    "\n",
    "pl.DataFrame(commit_data).write_csv(GITHUB_COMMIT_DATA_PATH)"
   ]
  },
  {
   "cell_type": "code",
   "execution_count": 16,
   "metadata": {},
   "outputs": [
    {
     "data": {
      "text/html": [
       "<div><style>\n",
       ".dataframe > thead > tr,\n",
       ".dataframe > tbody > tr {\n",
       "  text-align: right;\n",
       "  white-space: pre-wrap;\n",
       "}\n",
       "</style>\n",
       "<small>shape: (9, 14)</small><table border=\"1\" class=\"dataframe\"><thead><tr><th>describe</th><th>repo</th><th>commit</th><th>file</th><th>status</th><th>additions</th><th>deletions</th><th>changes</th><th>patch</th><th>file_url</th><th>cve_id</th><th>year</th><th>file_extension</th><th>language</th></tr><tr><td>str</td><td>str</td><td>str</td><td>str</td><td>str</td><td>f64</td><td>f64</td><td>f64</td><td>str</td><td>str</td><td>str</td><td>f64</td><td>str</td><td>str</td></tr></thead><tbody><tr><td>&quot;count&quot;</td><td>&quot;31383&quot;</td><td>&quot;31383&quot;</td><td>&quot;31383&quot;</td><td>&quot;31383&quot;</td><td>31383.0</td><td>31383.0</td><td>31383.0</td><td>&quot;31383&quot;</td><td>&quot;31383&quot;</td><td>&quot;31383&quot;</td><td>31383.0</td><td>&quot;31383&quot;</td><td>&quot;31383&quot;</td></tr><tr><td>&quot;null_count&quot;</td><td>&quot;0&quot;</td><td>&quot;0&quot;</td><td>&quot;0&quot;</td><td>&quot;0&quot;</td><td>0.0</td><td>0.0</td><td>0.0</td><td>&quot;1906&quot;</td><td>&quot;0&quot;</td><td>&quot;0&quot;</td><td>0.0</td><td>&quot;0&quot;</td><td>&quot;0&quot;</td></tr><tr><td>&quot;mean&quot;</td><td>null</td><td>null</td><td>null</td><td>null</td><td>37.030781</td><td>10.63117</td><td>47.661951</td><td>null</td><td>null</td><td>null</td><td>2023.0</td><td>null</td><td>null</td></tr><tr><td>&quot;std&quot;</td><td>null</td><td>null</td><td>null</td><td>null</td><td>272.85645</td><td>75.233201</td><td>291.225787</td><td>null</td><td>null</td><td>null</td><td>0.0</td><td>null</td><td>null</td></tr><tr><td>&quot;min&quot;</td><td>&quot;00xc/xml-rs&quot;</td><td>&quot;0005a6fd86ab97…</td><td>&quot;.bazelrc&quot;</td><td>&quot;added&quot;</td><td>0.0</td><td>0.0</td><td>0.0</td><td>&quot;@@ -0,0 +1 @@\n",
       "…</td><td>&quot;https://github…</td><td>&quot;2023-0028&quot;</td><td>2023.0</td><td>&quot;0/CREDITS&quot;</td><td>&quot;0/CREDITS&quot;</td></tr><tr><td>&quot;25%&quot;</td><td>null</td><td>null</td><td>null</td><td>null</td><td>1.0</td><td>0.0</td><td>3.0</td><td>null</td><td>null</td><td>null</td><td>2023.0</td><td>null</td><td>null</td></tr><tr><td>&quot;50%&quot;</td><td>null</td><td>null</td><td>null</td><td>null</td><td>5.0</td><td>1.0</td><td>9.0</td><td>null</td><td>null</td><td>null</td><td>2023.0</td><td>null</td><td>null</td></tr><tr><td>&quot;75%&quot;</td><td>null</td><td>null</td><td>null</td><td>null</td><td>20.0</td><td>4.0</td><td>30.0</td><td>null</td><td>null</td><td>null</td><td>2023.0</td><td>null</td><td>null</td></tr><tr><td>&quot;max&quot;</td><td>&quot;zxcvbn-ts/zxcv…</td><td>&quot;v3&quot;</td><td>&quot;zproject/urls.…</td><td>&quot;renamed&quot;</td><td>22479.0</td><td>4100.0</td><td>22625.0</td><td>&quot;@@ -999,7 +999…</td><td>&quot;https://github…</td><td>&quot;2023-7076&quot;</td><td>2023.0</td><td>&quot;zip&quot;</td><td>&quot;zip&quot;</td></tr></tbody></table></div>"
      ],
      "text/plain": [
       "shape: (9, 14)\n",
       "┌────────────┬───────────┬───────────┬───────────┬───┬───────────┬─────────┬───────────┬───────────┐\n",
       "│ describe   ┆ repo      ┆ commit    ┆ file      ┆ … ┆ cve_id    ┆ year    ┆ file_exte ┆ language  │\n",
       "│ ---        ┆ ---       ┆ ---       ┆ ---       ┆   ┆ ---       ┆ ---     ┆ nsion     ┆ ---       │\n",
       "│ str        ┆ str       ┆ str       ┆ str       ┆   ┆ str       ┆ f64     ┆ ---       ┆ str       │\n",
       "│            ┆           ┆           ┆           ┆   ┆           ┆         ┆ str       ┆           │\n",
       "╞════════════╪═══════════╪═══════════╪═══════════╪═══╪═══════════╪═════════╪═══════════╪═══════════╡\n",
       "│ count      ┆ 31383     ┆ 31383     ┆ 31383     ┆ … ┆ 31383     ┆ 31383.0 ┆ 31383     ┆ 31383     │\n",
       "│ null_count ┆ 0         ┆ 0         ┆ 0         ┆ … ┆ 0         ┆ 0.0     ┆ 0         ┆ 0         │\n",
       "│ mean       ┆ null      ┆ null      ┆ null      ┆ … ┆ null      ┆ 2023.0  ┆ null      ┆ null      │\n",
       "│ std        ┆ null      ┆ null      ┆ null      ┆ … ┆ null      ┆ 0.0     ┆ null      ┆ null      │\n",
       "│ min        ┆ 00xc/xml- ┆ 0005a6fd8 ┆ .bazelrc  ┆ … ┆ 2023-0028 ┆ 2023.0  ┆ 0/CREDITS ┆ 0/CREDITS │\n",
       "│            ┆ rs        ┆ 6ab97eff8 ┆           ┆   ┆           ┆         ┆           ┆           │\n",
       "│            ┆           ┆ bf2e3a582 ┆           ┆   ┆           ┆         ┆           ┆           │\n",
       "│            ┆           ┆ 8bf0e…    ┆           ┆   ┆           ┆         ┆           ┆           │\n",
       "│ 25%        ┆ null      ┆ null      ┆ null      ┆ … ┆ null      ┆ 2023.0  ┆ null      ┆ null      │\n",
       "│ 50%        ┆ null      ┆ null      ┆ null      ┆ … ┆ null      ┆ 2023.0  ┆ null      ┆ null      │\n",
       "│ 75%        ┆ null      ┆ null      ┆ null      ┆ … ┆ null      ┆ 2023.0  ┆ null      ┆ null      │\n",
       "│ max        ┆ zxcvbn-ts ┆ v3        ┆ zproject/ ┆ … ┆ 2023-7076 ┆ 2023.0  ┆ zip       ┆ zip       │\n",
       "│            ┆ /zxcvbn   ┆           ┆ urls.py   ┆   ┆           ┆         ┆           ┆           │\n",
       "└────────────┴───────────┴───────────┴───────────┴───┴───────────┴─────────┴───────────┴───────────┘"
      ]
     },
     "execution_count": 16,
     "metadata": {},
     "output_type": "execute_result"
    }
   ],
   "source": [
    "fix_commits = pl.read_csv(GITHUB_COMMIT_DATA_PATH)\n",
    "fix_commits = fix_commits.with_columns(pl.col(\"cve_id\").str.split(by=\"-\").list.get(0).str.to_integer().alias(\"year\")).filter(pl.col(\"year\") > 2022)\n",
    "# extract file extension\n",
    "fix_commits = fix_commits.with_columns(pl.col(\"file\").str.extract(r\".*\\.(.*)\", group_index=1).alias(\"file_extension\"))\n",
    "fix_commits = fix_commits.with_columns(\n",
    "    pl.col(\"file_extension\")\n",
    "    .replace(\n",
    "        {\n",
    "            \"c\": \"C\",\n",
    "            \"h\": \"C\",\n",
    "            \"cpp\": \"C++\",\n",
    "            \"hpp\": \"C++\",\n",
    "            \"cc\": \"C++\",\n",
    "            \"hh\": \"C++\",\n",
    "            \"java\": \"Java\",\n",
    "            \"py\": \"Python\",\n",
    "            \"js\": \"JavaScript\",\n",
    "            \"ts\": \"TypeScript\",\n",
    "            \"tsx\": \"TypeScript\",\n",
    "            \"go\": \"Go\",\n",
    "            \"rb\": \"Ruby\",\n",
    "            \"php\": \"PHP\",\n",
    "            \"phtml\": \"PHP\",\n",
    "            \"cs\": \"C#\",\n",
    "            \"swift\": \"Swift\",\n",
    "            \"scala\": \"Scala\",\n",
    "            \"rs\": \"Rust\",\n",
    "            \"kt\": \"Kotlin\",\n",
    "            \"clj\": \"Clojure\",\n",
    "            \"cljc\": \"Clojure\",\n",
    "            \"cljs\": \"Clojure\",\n",
    "            \"groovy\": \"Groovy\",\n",
    "            \"scala\": \"Scala\",\n",
    "            \"dart\": \"Dart\",\n",
    "            \"lua\": \"Lua\",\n",
    "            \"r\": \"R\",\n",
    "            \"sh\": \"Shell\",\n",
    "            \"bash\": \"Shell\",\n",
    "            \"zsh\": \"Shell\",\n",
    "            \"ps1\": \"PowerShell\",\n",
    "            \"psm1\": \"PowerShell\",\n",
    "            \"bat\": \"Batchfile\",\n",
    "            \"cmd\": \"Batchfile\",\n",
    "            \"awk\": \"Awk\",\n",
    "            \"yml\": \"YAML\",\n",
    "            \"yaml\": \"YAML\",\n",
    "            \"json\": \"JSON\",\n",
    "            \"xml\": \"XML\",\n",
    "            \"html\": \"HTML\",\n",
    "            \"css\": \"CSS\",\n",
    "            \"scss\": \"SCSS\",\n",
    "            \"less\": \"Less\",\n",
    "            \"styl\": \"Stylus\",\n",
    "            \"sql\": \"SQL\",\n",
    "            \"pl\": \"Perl\",\n",
    "            \"jl\": \"Julia\",\n",
    "            \"hcl\": \"HCL\",\n",
    "            \"tf\": \"terraform\",\n",
    "        }\n",
    "    )\n",
    "    .alias(\"language\")\n",
    ").filter(pl.Expr.not_(pl.col(\"language\").is_in([\"txt\", \"md\", \"JSON\", \"YAML\"])))\n",
    "fix_commits.describe()"
   ]
  },
  {
   "cell_type": "code",
   "execution_count": 17,
   "metadata": {},
   "outputs": [
    {
     "data": {
      "text/html": [
       "<div><style>\n",
       ".dataframe > thead > tr,\n",
       ".dataframe > tbody > tr {\n",
       "  text-align: right;\n",
       "  white-space: pre-wrap;\n",
       "}\n",
       "</style>\n",
       "<small>shape: (10, 2)</small><table border=\"1\" class=\"dataframe\"><thead><tr><th>language</th><th>count</th></tr><tr><td>str</td><td>u32</td></tr></thead><tbody><tr><td>&quot;PHP&quot;</td><td>674</td></tr><tr><td>&quot;Python&quot;</td><td>357</td></tr><tr><td>&quot;C&quot;</td><td>328</td></tr><tr><td>&quot;Java&quot;</td><td>305</td></tr><tr><td>&quot;JavaScript&quot;</td><td>284</td></tr><tr><td>&quot;Go&quot;</td><td>227</td></tr><tr><td>&quot;TypeScript&quot;</td><td>150</td></tr><tr><td>&quot;XML&quot;</td><td>150</td></tr><tr><td>&quot;C++&quot;</td><td>78</td></tr><tr><td>&quot;Ruby&quot;</td><td>74</td></tr></tbody></table></div>"
      ],
      "text/plain": [
       "shape: (10, 2)\n",
       "┌────────────┬───────┐\n",
       "│ language   ┆ count │\n",
       "│ ---        ┆ ---   │\n",
       "│ str        ┆ u32   │\n",
       "╞════════════╪═══════╡\n",
       "│ PHP        ┆ 674   │\n",
       "│ Python     ┆ 357   │\n",
       "│ C          ┆ 328   │\n",
       "│ Java       ┆ 305   │\n",
       "│ …          ┆ …     │\n",
       "│ TypeScript ┆ 150   │\n",
       "│ XML        ┆ 150   │\n",
       "│ C++        ┆ 78    │\n",
       "│ Ruby       ┆ 74    │\n",
       "└────────────┴───────┘"
      ]
     },
     "execution_count": 17,
     "metadata": {},
     "output_type": "execute_result"
    }
   ],
   "source": [
    "top_languages = set(\n",
    "    fix_commits.group_by(by=\"language\")\n",
    "    .count()\n",
    "    .sort(by=\"count\", descending=True)\n",
    "    .limit(10)\n",
    "    .select(pl.col(\"language\"))\n",
    "    .to_series()\n",
    ")\n",
    "language_with_vulnerabilities = (\n",
    "    fix_commits.unique([\"cve_id\", \"language\"])\n",
    "    .join(cve_data.unique([\"cve_id\", \"cwe_id\"]), on=\"cve_id\")\n",
    "    .drop_nulls()\n",
    "    .filter(pl.col(\"language\").is_in(top_languages))\n",
    ")\n",
    "# count number of vulnerabilities per language and cwe_id, shows only top 10 cwe_id per language\n",
    "cwe_language_count = (\n",
    "    language_with_vulnerabilities.filter(pl.col(\"language\").is_in(top_languages))\n",
    "    .group_by(by=[\"language\", \"cwe_id\"])\n",
    "    .count()\n",
    "    .sort(by=[\"language\", \"count\"], descending=True)\n",
    "    .with_columns(pl.col(\"language\").cum_count().over(\"language\").alias(\"language_count\"))\n",
    "    .with_columns(\n",
    "        pl.when(pl.col(\"language_count\") > 9).then(pl.lit(\"Другие CWEs\")).otherwise(pl.col(\"cwe_id\")).alias(\"cwe_id\")\n",
    "    )\n",
    ")\n",
    "language_with_vulnerabilities.group_by([\"language\"]).count().sort(by=\"count\", descending=True)"
   ]
  },
  {
   "cell_type": "code",
   "execution_count": 18,
   "metadata": {},
   "outputs": [
    {
     "data": {
      "application/vnd.plotly.v1+json": {
       "config": {
        "plotlyServerURL": "https://plot.ly"
       },
       "data": [
        {
         "branchvalues": "total",
         "customdata": [
          [
           "CWE-434"
          ],
          [
           "CWE-502"
          ],
          [
           "Другие CWEs"
          ],
          [
           "Другие CWEs"
          ],
          [
           "CWE-125"
          ],
          [
           "CWE-416"
          ],
          [
           "CWE-1333"
          ],
          [
           "Другие CWEs"
          ],
          [
           "CWE-502"
          ],
          [
           "Другие CWEs"
          ],
          [
           "CWE-416"
          ],
          [
           "CWE-476"
          ],
          [
           "CWE-476"
          ],
          [
           "CWE-125"
          ],
          [
           "Другие CWEs"
          ],
          [
           "(?)"
          ],
          [
           "CWE-1333"
          ],
          [
           "CWE-122"
          ],
          [
           "Другие CWEs"
          ],
          [
           "CWE-122"
          ],
          [
           "Другие CWEs"
          ],
          [
           "CWE-400"
          ],
          [
           "CWE-1321"
          ],
          [
           "CWE-1321"
          ],
          [
           "Другие CWEs"
          ],
          [
           "CWE-401"
          ],
          [
           "Другие CWEs"
          ],
          [
           "CWE-400"
          ],
          [
           "CWE-120"
          ],
          [
           "CWE-120"
          ],
          [
           "CWE-835"
          ],
          [
           "CWE-79"
          ],
          [
           "CWE-863"
          ],
          [
           "CWE-79"
          ],
          [
           "CWE-79"
          ],
          [
           "CWE-79"
          ],
          [
           "CWE-79"
          ],
          [
           "CWE-79"
          ],
          [
           "CWE-79"
          ],
          [
           "CWE-787"
          ],
          [
           "CWE-863"
          ],
          [
           "CWE-79"
          ],
          [
           "CWE-863"
          ],
          [
           "CWE-94"
          ],
          [
           "CWE-89"
          ],
          [
           "(?)"
          ],
          [
           "(?)"
          ],
          [
           "(?)"
          ],
          [
           "(?)"
          ],
          [
           "(?)"
          ],
          [
           "(?)"
          ],
          [
           "(?)"
          ],
          [
           "Другие CWEs"
          ],
          [
           "CWE-95"
          ],
          [
           "CWE-95"
          ],
          [
           "CWE-89"
          ],
          [
           "CWE-94"
          ],
          [
           "CWE-94"
          ],
          [
           "CWE-94"
          ],
          [
           "CWE-787"
          ],
          [
           "CWE-94"
          ],
          [
           "CWE-918"
          ],
          [
           "CWE-918"
          ],
          [
           "CWE-918"
          ],
          [
           "CWE-918"
          ],
          [
           "CWE-918"
          ],
          [
           "CWE-89"
          ],
          [
           "CWE-94"
          ],
          [
           "CWE-78"
          ],
          [
           "CWE-611"
          ],
          [
           "CWE-770"
          ],
          [
           "CWE-22"
          ],
          [
           "CWE-22"
          ],
          [
           "CWE-22"
          ],
          [
           "CWE-200"
          ],
          [
           "CWE-200"
          ],
          [
           "CWE-200"
          ],
          [
           "CWE-200"
          ],
          [
           "CWE-200"
          ],
          [
           "CWE-200"
          ],
          [
           "CWE-200"
          ],
          [
           "CWE-200"
          ],
          [
           "CWE-20"
          ],
          [
           "CWE-20"
          ],
          [
           "CWE-20"
          ],
          [
           "CWE-20"
          ],
          [
           "CWE-20"
          ],
          [
           "CWE-20"
          ],
          [
           "CWE-20"
          ],
          [
           "CWE-20"
          ],
          [
           "CWE-190"
          ],
          [
           "CWE-1333"
          ],
          [
           "CWE-22"
          ],
          [
           "CWE-22"
          ],
          [
           "CWE-22"
          ],
          [
           "CWE-22"
          ],
          [
           "CWE-770"
          ],
          [
           "CWE-770"
          ],
          [
           "CWE-74"
          ],
          [
           "CWE-74"
          ],
          [
           "CWE-74"
          ],
          [
           "CWE-697"
          ],
          [
           "CWE-617"
          ],
          [
           "(?)"
          ],
          [
           "CWE-611"
          ],
          [
           "CWE-532"
          ],
          [
           "CWE-770"
          ],
          [
           "CWE-400"
          ],
          [
           "CWE-400"
          ],
          [
           "CWE-369"
          ],
          [
           "CWE-352"
          ],
          [
           "CWE-352"
          ],
          [
           "CWE-352"
          ],
          [
           "CWE-352"
          ],
          [
           "CWE-347"
          ],
          [
           "CWE-287"
          ],
          [
           "CWE-287"
          ],
          [
           "CWE-284"
          ],
          [
           "CWE-400"
          ],
          [
           "(?)"
          ]
         ],
         "domain": {
          "x": [
           0,
           1
          ],
          "y": [
           0,
           1
          ]
         },
         "hovertemplate": "labels=%{label}<br>count=%{value}<br>parent=%{parent}<br>id=%{id}<br>cwe_id=%{customdata[0]}<extra></extra>",
         "ids": [
          "PHP/CWE-434",
          "Ruby/CWE-502",
          "PHP/Другие CWEs",
          "TypeScript/Другие CWEs",
          "C++/CWE-125",
          "C++/CWE-416",
          "JavaScript/CWE-1333",
          "Go/Другие CWEs",
          "Java/CWE-502",
          "Ruby/Другие CWEs",
          "C/CWE-416",
          "C/CWE-476",
          "C++/CWE-476",
          "C/CWE-125",
          "JavaScript/Другие CWEs",
          "C",
          "Ruby/CWE-1333",
          "C++/CWE-122",
          "Java/Другие CWEs",
          "C/CWE-122",
          "C++/Другие CWEs",
          "Python/CWE-400",
          "TypeScript/CWE-1321",
          "JavaScript/CWE-1321",
          "XML/Другие CWEs",
          "C/CWE-401",
          "Python/Другие CWEs",
          "Ruby/CWE-400",
          "C/CWE-120",
          "C++/CWE-120",
          "Go/CWE-835",
          "TypeScript/CWE-79",
          "Python/CWE-863",
          "Ruby/CWE-79",
          "Python/CWE-79",
          "PHP/CWE-79",
          "JavaScript/CWE-79",
          "Java/CWE-79",
          "Go/CWE-79",
          "C++/CWE-787",
          "Go/CWE-863",
          "XML/CWE-79",
          "XML/CWE-863",
          "JavaScript/CWE-94",
          "Ruby/CWE-89",
          "Ruby",
          "Python",
          "PHP",
          "JavaScript",
          "Java",
          "Go",
          "C++",
          "C/Другие CWEs",
          "XML/CWE-95",
          "Java/CWE-95",
          "PHP/CWE-89",
          "XML/CWE-94",
          "Python/CWE-94",
          "PHP/CWE-94",
          "C/CWE-787",
          "Java/CWE-94",
          "TypeScript/CWE-918",
          "Ruby/CWE-918",
          "Python/CWE-918",
          "PHP/CWE-918",
          "JavaScript/CWE-918",
          "XML/CWE-89",
          "TypeScript/CWE-94",
          "Python/CWE-78",
          "XML/CWE-611",
          "Python/CWE-770",
          "JavaScript/CWE-22",
          "Java/CWE-22",
          "Go/CWE-22",
          "XML/CWE-200",
          "TypeScript/CWE-200",
          "Ruby/CWE-200",
          "Python/CWE-200",
          "PHP/CWE-200",
          "JavaScript/CWE-200",
          "Java/CWE-200",
          "Go/CWE-200",
          "XML/CWE-20",
          "TypeScript/CWE-20",
          "Ruby/CWE-20",
          "Python/CWE-20",
          "PHP/CWE-20",
          "JavaScript/CWE-20",
          "Go/CWE-20",
          "C/CWE-20",
          "C/CWE-190",
          "TypeScript/CWE-1333",
          "PHP/CWE-22",
          "Python/CWE-22",
          "Ruby/CWE-22",
          "TypeScript/CWE-22",
          "Java/CWE-770",
          "Go/CWE-770",
          "XML/CWE-74",
          "JavaScript/CWE-74",
          "Java/CWE-74",
          "C++/CWE-697",
          "C++/CWE-617",
          "TypeScript",
          "Java/CWE-611",
          "Go/CWE-532",
          "Ruby/CWE-770",
          "Java/CWE-400",
          "C/CWE-400",
          "C++/CWE-369",
          "XML/CWE-352",
          "TypeScript/CWE-352",
          "PHP/CWE-352",
          "JavaScript/CWE-352",
          "C++/CWE-347",
          "TypeScript/CWE-287",
          "Go/CWE-287",
          "PHP/CWE-284",
          "Go/CWE-400",
          "XML"
         ],
         "labels": [
          "CWE-434",
          "CWE-502",
          "Другие CWEs",
          "Другие CWEs",
          "CWE-125",
          "CWE-416",
          "CWE-1333",
          "Другие CWEs",
          "CWE-502",
          "Другие CWEs",
          "CWE-416",
          "CWE-476",
          "CWE-476",
          "CWE-125",
          "Другие CWEs",
          "C",
          "CWE-1333",
          "CWE-122",
          "Другие CWEs",
          "CWE-122",
          "Другие CWEs",
          "CWE-400",
          "CWE-1321",
          "CWE-1321",
          "Другие CWEs",
          "CWE-401",
          "Другие CWEs",
          "CWE-400",
          "CWE-120",
          "CWE-120",
          "CWE-835",
          "CWE-79",
          "CWE-863",
          "CWE-79",
          "CWE-79",
          "CWE-79",
          "CWE-79",
          "CWE-79",
          "CWE-79",
          "CWE-787",
          "CWE-863",
          "CWE-79",
          "CWE-863",
          "CWE-94",
          "CWE-89",
          "Ruby",
          "Python",
          "PHP",
          "JavaScript",
          "Java",
          "Go",
          "C++",
          "Другие CWEs",
          "CWE-95",
          "CWE-95",
          "CWE-89",
          "CWE-94",
          "CWE-94",
          "CWE-94",
          "CWE-787",
          "CWE-94",
          "CWE-918",
          "CWE-918",
          "CWE-918",
          "CWE-918",
          "CWE-918",
          "CWE-89",
          "CWE-94",
          "CWE-78",
          "CWE-611",
          "CWE-770",
          "CWE-22",
          "CWE-22",
          "CWE-22",
          "CWE-200",
          "CWE-200",
          "CWE-200",
          "CWE-200",
          "CWE-200",
          "CWE-200",
          "CWE-200",
          "CWE-200",
          "CWE-20",
          "CWE-20",
          "CWE-20",
          "CWE-20",
          "CWE-20",
          "CWE-20",
          "CWE-20",
          "CWE-20",
          "CWE-190",
          "CWE-1333",
          "CWE-22",
          "CWE-22",
          "CWE-22",
          "CWE-22",
          "CWE-770",
          "CWE-770",
          "CWE-74",
          "CWE-74",
          "CWE-74",
          "CWE-697",
          "CWE-617",
          "TypeScript",
          "CWE-611",
          "CWE-532",
          "CWE-770",
          "CWE-400",
          "CWE-400",
          "CWE-369",
          "CWE-352",
          "CWE-352",
          "CWE-352",
          "CWE-352",
          "CWE-347",
          "CWE-287",
          "CWE-287",
          "CWE-284",
          "CWE-400",
          "XML"
         ],
         "marker": {
          "colors": [
           "#00cc96",
           "#ab63fa",
           "#cce7e8",
           "#cce7e8",
           "#FFA15A",
           "#19d3f3",
           "#FF6692",
           "#cce7e8",
           "#ab63fa",
           "#cce7e8",
           "#19d3f3",
           "#B6E880",
           "#B6E880",
           "#FFA15A",
           "#cce7e8",
           "green",
           "#FF6692",
           "#FF97FF",
           "#cce7e8",
           "#FF97FF",
           "#cce7e8",
           "#FECB52",
           "#636efa",
           "#636efa",
           "#cce7e8",
           "#EF553B",
           "#cce7e8",
           "#FECB52",
           "#00cc96",
           "#00cc96",
           "#ab63fa",
           "#FFA15A",
           "#19d3f3",
           "#FFA15A",
           "#FFA15A",
           "#FFA15A",
           "#FFA15A",
           "#FFA15A",
           "#FFA15A",
           "#FF6692",
           "#19d3f3",
           "#FFA15A",
           "#19d3f3",
           "#B6E880",
           "#FF97FF",
           "green",
           "green",
           "green",
           "green",
           "green",
           "green",
           "green",
           "#cce7e8",
           "#FECB52",
           "#FECB52",
           "#FF97FF",
           "#B6E880",
           "#B6E880",
           "#B6E880",
           "#FF6692",
           "#B6E880",
           "#636efa",
           "#636efa",
           "#636efa",
           "#636efa",
           "#636efa",
           "#FF97FF",
           "#B6E880",
           "#EF553B",
           "#00cc96",
           "#ab63fa",
           "#FFA15A",
           "#FFA15A",
           "#FFA15A",
           "#19d3f3",
           "#19d3f3",
           "#19d3f3",
           "#19d3f3",
           "#19d3f3",
           "#19d3f3",
           "#19d3f3",
           "#19d3f3",
           "#FF6692",
           "#FF6692",
           "#FF6692",
           "#FF6692",
           "#FF6692",
           "#FF6692",
           "#FF6692",
           "#FF6692",
           "#B6E880",
           "#FF6692",
           "#FFA15A",
           "#FFA15A",
           "#FFA15A",
           "#FFA15A",
           "#ab63fa",
           "#ab63fa",
           "#FF97FF",
           "#FF97FF",
           "#FF97FF",
           "#FECB52",
           "#636efa",
           "green",
           "#00cc96",
           "#EF553B",
           "#ab63fa",
           "#FECB52",
           "#FECB52",
           "#00cc96",
           "#ab63fa",
           "#ab63fa",
           "#ab63fa",
           "#ab63fa",
           "#FFA15A",
           "#19d3f3",
           "#19d3f3",
           "#FF6692",
           "#FECB52",
           "green"
          ]
         },
         "name": "",
         "parents": [
          "PHP",
          "Ruby",
          "PHP",
          "TypeScript",
          "C++",
          "C++",
          "JavaScript",
          "Go",
          "Java",
          "Ruby",
          "C",
          "C",
          "C++",
          "C",
          "JavaScript",
          "",
          "Ruby",
          "C++",
          "Java",
          "C",
          "C++",
          "Python",
          "TypeScript",
          "JavaScript",
          "XML",
          "C",
          "Python",
          "Ruby",
          "C",
          "C++",
          "Go",
          "TypeScript",
          "Python",
          "Ruby",
          "Python",
          "PHP",
          "JavaScript",
          "Java",
          "Go",
          "C++",
          "Go",
          "XML",
          "XML",
          "JavaScript",
          "Ruby",
          "",
          "",
          "",
          "",
          "",
          "",
          "",
          "C",
          "XML",
          "Java",
          "PHP",
          "XML",
          "Python",
          "PHP",
          "C",
          "Java",
          "TypeScript",
          "Ruby",
          "Python",
          "PHP",
          "JavaScript",
          "XML",
          "TypeScript",
          "Python",
          "XML",
          "Python",
          "JavaScript",
          "Java",
          "Go",
          "XML",
          "TypeScript",
          "Ruby",
          "Python",
          "PHP",
          "JavaScript",
          "Java",
          "Go",
          "XML",
          "TypeScript",
          "Ruby",
          "Python",
          "PHP",
          "JavaScript",
          "Go",
          "C",
          "C",
          "TypeScript",
          "PHP",
          "Python",
          "Ruby",
          "TypeScript",
          "Java",
          "Go",
          "XML",
          "JavaScript",
          "Java",
          "C++",
          "C++",
          "",
          "Java",
          "Go",
          "Ruby",
          "Java",
          "C",
          "C++",
          "XML",
          "TypeScript",
          "PHP",
          "JavaScript",
          "C++",
          "TypeScript",
          "Go",
          "PHP",
          "Go",
          ""
         ],
         "type": "treemap",
         "values": [
          26,
          2,
          223,
          66,
          5,
          3,
          8,
          122,
          12,
          21,
          37,
          33,
          11,
          22,
          111,
          328,
          6,
          6,
          152,
          22,
          27,
          17,
          6,
          7,
          49,
          8,
          207,
          7,
          14,
          6,
          5,
          35,
          10,
          10,
          20,
          246,
          98,
          31,
          25,
          8,
          5,
          17,
          5,
          7,
          2,
          74,
          357,
          674,
          284,
          305,
          227,
          78,
          115,
          19,
          15,
          38,
          19,
          10,
          30,
          38,
          20,
          6,
          4,
          8,
          17,
          9,
          5,
          6,
          10,
          4,
          8,
          11,
          14,
          7,
          5,
          5,
          9,
          24,
          16,
          6,
          15,
          8,
          6,
          6,
          3,
          19,
          17,
          9,
          15,
          10,
          19,
          4,
          17,
          24,
          3,
          6,
          10,
          7,
          14,
          7,
          15,
          5,
          3,
          150,
          10,
          6,
          7,
          11,
          10,
          2,
          7,
          5,
          24,
          11,
          2,
          5,
          10,
          20,
          17,
          150
         ]
        }
       ],
       "layout": {
        "font": {
         "family": "Ubuntu"
        },
        "height": 800,
        "legend": {
         "tracegroupgap": 0
        },
        "margin": {
         "b": 25,
         "l": 25,
         "r": 25,
         "t": 30
        },
        "template": {
         "data": {
          "bar": [
           {
            "error_x": {
             "color": "#2a3f5f"
            },
            "error_y": {
             "color": "#2a3f5f"
            },
            "marker": {
             "line": {
              "color": "#E5ECF6",
              "width": 0.5
             },
             "pattern": {
              "fillmode": "overlay",
              "size": 10,
              "solidity": 0.2
             }
            },
            "type": "bar"
           }
          ],
          "barpolar": [
           {
            "marker": {
             "line": {
              "color": "#E5ECF6",
              "width": 0.5
             },
             "pattern": {
              "fillmode": "overlay",
              "size": 10,
              "solidity": 0.2
             }
            },
            "type": "barpolar"
           }
          ],
          "carpet": [
           {
            "aaxis": {
             "endlinecolor": "#2a3f5f",
             "gridcolor": "white",
             "linecolor": "white",
             "minorgridcolor": "white",
             "startlinecolor": "#2a3f5f"
            },
            "baxis": {
             "endlinecolor": "#2a3f5f",
             "gridcolor": "white",
             "linecolor": "white",
             "minorgridcolor": "white",
             "startlinecolor": "#2a3f5f"
            },
            "type": "carpet"
           }
          ],
          "choropleth": [
           {
            "colorbar": {
             "outlinewidth": 0,
             "ticks": ""
            },
            "type": "choropleth"
           }
          ],
          "contour": [
           {
            "colorbar": {
             "outlinewidth": 0,
             "ticks": ""
            },
            "colorscale": [
             [
              0,
              "#0d0887"
             ],
             [
              0.1111111111111111,
              "#46039f"
             ],
             [
              0.2222222222222222,
              "#7201a8"
             ],
             [
              0.3333333333333333,
              "#9c179e"
             ],
             [
              0.4444444444444444,
              "#bd3786"
             ],
             [
              0.5555555555555556,
              "#d8576b"
             ],
             [
              0.6666666666666666,
              "#ed7953"
             ],
             [
              0.7777777777777778,
              "#fb9f3a"
             ],
             [
              0.8888888888888888,
              "#fdca26"
             ],
             [
              1,
              "#f0f921"
             ]
            ],
            "type": "contour"
           }
          ],
          "contourcarpet": [
           {
            "colorbar": {
             "outlinewidth": 0,
             "ticks": ""
            },
            "type": "contourcarpet"
           }
          ],
          "heatmap": [
           {
            "colorbar": {
             "outlinewidth": 0,
             "ticks": ""
            },
            "colorscale": [
             [
              0,
              "#0d0887"
             ],
             [
              0.1111111111111111,
              "#46039f"
             ],
             [
              0.2222222222222222,
              "#7201a8"
             ],
             [
              0.3333333333333333,
              "#9c179e"
             ],
             [
              0.4444444444444444,
              "#bd3786"
             ],
             [
              0.5555555555555556,
              "#d8576b"
             ],
             [
              0.6666666666666666,
              "#ed7953"
             ],
             [
              0.7777777777777778,
              "#fb9f3a"
             ],
             [
              0.8888888888888888,
              "#fdca26"
             ],
             [
              1,
              "#f0f921"
             ]
            ],
            "type": "heatmap"
           }
          ],
          "heatmapgl": [
           {
            "colorbar": {
             "outlinewidth": 0,
             "ticks": ""
            },
            "colorscale": [
             [
              0,
              "#0d0887"
             ],
             [
              0.1111111111111111,
              "#46039f"
             ],
             [
              0.2222222222222222,
              "#7201a8"
             ],
             [
              0.3333333333333333,
              "#9c179e"
             ],
             [
              0.4444444444444444,
              "#bd3786"
             ],
             [
              0.5555555555555556,
              "#d8576b"
             ],
             [
              0.6666666666666666,
              "#ed7953"
             ],
             [
              0.7777777777777778,
              "#fb9f3a"
             ],
             [
              0.8888888888888888,
              "#fdca26"
             ],
             [
              1,
              "#f0f921"
             ]
            ],
            "type": "heatmapgl"
           }
          ],
          "histogram": [
           {
            "marker": {
             "pattern": {
              "fillmode": "overlay",
              "size": 10,
              "solidity": 0.2
             }
            },
            "type": "histogram"
           }
          ],
          "histogram2d": [
           {
            "colorbar": {
             "outlinewidth": 0,
             "ticks": ""
            },
            "colorscale": [
             [
              0,
              "#0d0887"
             ],
             [
              0.1111111111111111,
              "#46039f"
             ],
             [
              0.2222222222222222,
              "#7201a8"
             ],
             [
              0.3333333333333333,
              "#9c179e"
             ],
             [
              0.4444444444444444,
              "#bd3786"
             ],
             [
              0.5555555555555556,
              "#d8576b"
             ],
             [
              0.6666666666666666,
              "#ed7953"
             ],
             [
              0.7777777777777778,
              "#fb9f3a"
             ],
             [
              0.8888888888888888,
              "#fdca26"
             ],
             [
              1,
              "#f0f921"
             ]
            ],
            "type": "histogram2d"
           }
          ],
          "histogram2dcontour": [
           {
            "colorbar": {
             "outlinewidth": 0,
             "ticks": ""
            },
            "colorscale": [
             [
              0,
              "#0d0887"
             ],
             [
              0.1111111111111111,
              "#46039f"
             ],
             [
              0.2222222222222222,
              "#7201a8"
             ],
             [
              0.3333333333333333,
              "#9c179e"
             ],
             [
              0.4444444444444444,
              "#bd3786"
             ],
             [
              0.5555555555555556,
              "#d8576b"
             ],
             [
              0.6666666666666666,
              "#ed7953"
             ],
             [
              0.7777777777777778,
              "#fb9f3a"
             ],
             [
              0.8888888888888888,
              "#fdca26"
             ],
             [
              1,
              "#f0f921"
             ]
            ],
            "type": "histogram2dcontour"
           }
          ],
          "mesh3d": [
           {
            "colorbar": {
             "outlinewidth": 0,
             "ticks": ""
            },
            "type": "mesh3d"
           }
          ],
          "parcoords": [
           {
            "line": {
             "colorbar": {
              "outlinewidth": 0,
              "ticks": ""
             }
            },
            "type": "parcoords"
           }
          ],
          "pie": [
           {
            "automargin": true,
            "type": "pie"
           }
          ],
          "scatter": [
           {
            "fillpattern": {
             "fillmode": "overlay",
             "size": 10,
             "solidity": 0.2
            },
            "type": "scatter"
           }
          ],
          "scatter3d": [
           {
            "line": {
             "colorbar": {
              "outlinewidth": 0,
              "ticks": ""
             }
            },
            "marker": {
             "colorbar": {
              "outlinewidth": 0,
              "ticks": ""
             }
            },
            "type": "scatter3d"
           }
          ],
          "scattercarpet": [
           {
            "marker": {
             "colorbar": {
              "outlinewidth": 0,
              "ticks": ""
             }
            },
            "type": "scattercarpet"
           }
          ],
          "scattergeo": [
           {
            "marker": {
             "colorbar": {
              "outlinewidth": 0,
              "ticks": ""
             }
            },
            "type": "scattergeo"
           }
          ],
          "scattergl": [
           {
            "marker": {
             "colorbar": {
              "outlinewidth": 0,
              "ticks": ""
             }
            },
            "type": "scattergl"
           }
          ],
          "scattermapbox": [
           {
            "marker": {
             "colorbar": {
              "outlinewidth": 0,
              "ticks": ""
             }
            },
            "type": "scattermapbox"
           }
          ],
          "scatterpolar": [
           {
            "marker": {
             "colorbar": {
              "outlinewidth": 0,
              "ticks": ""
             }
            },
            "type": "scatterpolar"
           }
          ],
          "scatterpolargl": [
           {
            "marker": {
             "colorbar": {
              "outlinewidth": 0,
              "ticks": ""
             }
            },
            "type": "scatterpolargl"
           }
          ],
          "scatterternary": [
           {
            "marker": {
             "colorbar": {
              "outlinewidth": 0,
              "ticks": ""
             }
            },
            "type": "scatterternary"
           }
          ],
          "surface": [
           {
            "colorbar": {
             "outlinewidth": 0,
             "ticks": ""
            },
            "colorscale": [
             [
              0,
              "#0d0887"
             ],
             [
              0.1111111111111111,
              "#46039f"
             ],
             [
              0.2222222222222222,
              "#7201a8"
             ],
             [
              0.3333333333333333,
              "#9c179e"
             ],
             [
              0.4444444444444444,
              "#bd3786"
             ],
             [
              0.5555555555555556,
              "#d8576b"
             ],
             [
              0.6666666666666666,
              "#ed7953"
             ],
             [
              0.7777777777777778,
              "#fb9f3a"
             ],
             [
              0.8888888888888888,
              "#fdca26"
             ],
             [
              1,
              "#f0f921"
             ]
            ],
            "type": "surface"
           }
          ],
          "table": [
           {
            "cells": {
             "fill": {
              "color": "#EBF0F8"
             },
             "line": {
              "color": "white"
             }
            },
            "header": {
             "fill": {
              "color": "#C8D4E3"
             },
             "line": {
              "color": "white"
             }
            },
            "type": "table"
           }
          ]
         },
         "layout": {
          "annotationdefaults": {
           "arrowcolor": "#2a3f5f",
           "arrowhead": 0,
           "arrowwidth": 1
          },
          "autotypenumbers": "strict",
          "coloraxis": {
           "colorbar": {
            "outlinewidth": 0,
            "ticks": ""
           }
          },
          "colorscale": {
           "diverging": [
            [
             0,
             "#8e0152"
            ],
            [
             0.1,
             "#c51b7d"
            ],
            [
             0.2,
             "#de77ae"
            ],
            [
             0.3,
             "#f1b6da"
            ],
            [
             0.4,
             "#fde0ef"
            ],
            [
             0.5,
             "#f7f7f7"
            ],
            [
             0.6,
             "#e6f5d0"
            ],
            [
             0.7,
             "#b8e186"
            ],
            [
             0.8,
             "#7fbc41"
            ],
            [
             0.9,
             "#4d9221"
            ],
            [
             1,
             "#276419"
            ]
           ],
           "sequential": [
            [
             0,
             "#0d0887"
            ],
            [
             0.1111111111111111,
             "#46039f"
            ],
            [
             0.2222222222222222,
             "#7201a8"
            ],
            [
             0.3333333333333333,
             "#9c179e"
            ],
            [
             0.4444444444444444,
             "#bd3786"
            ],
            [
             0.5555555555555556,
             "#d8576b"
            ],
            [
             0.6666666666666666,
             "#ed7953"
            ],
            [
             0.7777777777777778,
             "#fb9f3a"
            ],
            [
             0.8888888888888888,
             "#fdca26"
            ],
            [
             1,
             "#f0f921"
            ]
           ],
           "sequentialminus": [
            [
             0,
             "#0d0887"
            ],
            [
             0.1111111111111111,
             "#46039f"
            ],
            [
             0.2222222222222222,
             "#7201a8"
            ],
            [
             0.3333333333333333,
             "#9c179e"
            ],
            [
             0.4444444444444444,
             "#bd3786"
            ],
            [
             0.5555555555555556,
             "#d8576b"
            ],
            [
             0.6666666666666666,
             "#ed7953"
            ],
            [
             0.7777777777777778,
             "#fb9f3a"
            ],
            [
             0.8888888888888888,
             "#fdca26"
            ],
            [
             1,
             "#f0f921"
            ]
           ]
          },
          "colorway": [
           "#636efa",
           "#EF553B",
           "#00cc96",
           "#ab63fa",
           "#FFA15A",
           "#19d3f3",
           "#FF6692",
           "#B6E880",
           "#FF97FF",
           "#FECB52"
          ],
          "font": {
           "color": "#2a3f5f"
          },
          "geo": {
           "bgcolor": "white",
           "lakecolor": "white",
           "landcolor": "#E5ECF6",
           "showlakes": true,
           "showland": true,
           "subunitcolor": "white"
          },
          "hoverlabel": {
           "align": "left"
          },
          "hovermode": "closest",
          "mapbox": {
           "style": "light"
          },
          "paper_bgcolor": "white",
          "plot_bgcolor": "#E5ECF6",
          "polar": {
           "angularaxis": {
            "gridcolor": "white",
            "linecolor": "white",
            "ticks": ""
           },
           "bgcolor": "#E5ECF6",
           "radialaxis": {
            "gridcolor": "white",
            "linecolor": "white",
            "ticks": ""
           }
          },
          "scene": {
           "xaxis": {
            "backgroundcolor": "#E5ECF6",
            "gridcolor": "white",
            "gridwidth": 2,
            "linecolor": "white",
            "showbackground": true,
            "ticks": "",
            "zerolinecolor": "white"
           },
           "yaxis": {
            "backgroundcolor": "#E5ECF6",
            "gridcolor": "white",
            "gridwidth": 2,
            "linecolor": "white",
            "showbackground": true,
            "ticks": "",
            "zerolinecolor": "white"
           },
           "zaxis": {
            "backgroundcolor": "#E5ECF6",
            "gridcolor": "white",
            "gridwidth": 2,
            "linecolor": "white",
            "showbackground": true,
            "ticks": "",
            "zerolinecolor": "white"
           }
          },
          "shapedefaults": {
           "line": {
            "color": "#2a3f5f"
           }
          },
          "ternary": {
           "aaxis": {
            "gridcolor": "white",
            "linecolor": "white",
            "ticks": ""
           },
           "baxis": {
            "gridcolor": "white",
            "linecolor": "white",
            "ticks": ""
           },
           "bgcolor": "#E5ECF6",
           "caxis": {
            "gridcolor": "white",
            "linecolor": "white",
            "ticks": ""
           }
          },
          "title": {
           "x": 0.05
          },
          "xaxis": {
           "automargin": true,
           "gridcolor": "white",
           "linecolor": "white",
           "ticks": "",
           "title": {
            "standoff": 15
           },
           "zerolinecolor": "white",
           "zerolinewidth": 2
          },
          "yaxis": {
           "automargin": true,
           "gridcolor": "white",
           "linecolor": "white",
           "ticks": "",
           "title": {
            "standoff": 15
           },
           "zerolinecolor": "white",
           "zerolinewidth": 2
          }
         }
        },
        "title": {
         "text": "Количество уязвимостей по языкам программирования и CWE начиная с 2020 года"
        }
       }
      }
     },
     "metadata": {},
     "output_type": "display_data"
    }
   ],
   "source": [
    "fig = px.treemap(\n",
    "    cwe_language_count,\n",
    "    path=[\"language\", \"cwe_id\"],\n",
    "    values=\"count\",\n",
    "    title=\"Количество уязвимостей по языкам программирования и CWE начиная с 2020 года\",\n",
    "    color=\"cwe_id\",\n",
    "    color_discrete_map={\n",
    "        \"(?)\": \"green\",\n",
    "        \"Другие CWEs\": \"#cce7e8\",\n",
    "    },\n",
    ")\n",
    "fig.update_layout(font_family=\"Ubuntu\", height=800, margin=dict(t=30, l=25, r=25, b=25))\n",
    "\n",
    "RESULTED_IMAGES.mkdir(parents=True, exist_ok=True)\n",
    "fig.write_image(RESULTED_IMAGES / \"cwe_language_treemap.png\")\n",
    "\n",
    "fig.show()"
   ]
  },
  {
   "cell_type": "code",
   "execution_count": 19,
   "metadata": {},
   "outputs": [
    {
     "data": {
      "image/png": "[encoded data removed]",
      "text/plain": [
       "<Figure size 1500x1000 with 2 Axes>"
      ]
     },
     "metadata": {},
     "output_type": "display_data"
    }
   ],
   "source": [
    "top_cwes = set(\n",
    "    language_with_vulnerabilities.group_by(by=\"cwe_id\")\n",
    "    .count()\n",
    "    .sort(by=\"count\", descending=True)\n",
    "    .limit(16)\n",
    "    .select(pl.col(\"cwe_id\"))\n",
    "    .to_series()\n",
    ")\n",
    "top_cwes_commits = language_with_vulnerabilities.filter(pl.col(\"cwe_id\").is_in(top_cwes))\n",
    "# Count amount of commits per language\n",
    "commits_count = (\n",
    "    language_with_vulnerabilities.select(\"language\").group_by(by=\"language\").agg(pl.count().alias(\"total_count\"))\n",
    ")\n",
    "top_cwes_commits = (\n",
    "    top_cwes_commits.group_by(by=[\"language\", \"cwe_id\"])\n",
    "    .count()\n",
    "    .join(commits_count, on=\"language\")\n",
    "    .with_columns(\n",
    "        (pl.col(\"count\") / pl.col(\"total_count\") * pl.lit(100)).alias(\"percentage\"),\n",
    "        pl.col(\"cwe_id\").str.replace(\"CWE-\", \"\"),\n",
    "    )\n",
    "    .to_pandas()\n",
    ")\n",
    "\n",
    "fig, ax = plt.subplots(figsize=(15, 10))\n",
    "ax_heatmap = sns.heatmap(\n",
    "    top_cwes_commits.pivot(index=\"language\", columns=\"cwe_id\", values=\"percentage\").fillna(0),\n",
    "    linewidths=0.5,\n",
    "    cmap=\"crest\",\n",
    "    vmax=30,\n",
    "    annot=True,\n",
    "    ax=ax,\n",
    "    fmt=\".0f\",\n",
    ")\n",
    "for t in ax_heatmap.texts:\n",
    "    t.set_text(t.get_text() + \"%\")\n",
    "ax_heatmap.set(ylabel=\"Язык программирования\", xlabel=\"Номер CWE\")\n",
    "fig.savefig(RESULTED_IMAGES / \"cwe_language_heatmap.png\")"
   ]
  }
 ],
 "metadata": {
  "kernelspec": {
   "display_name": ".venv",
   "language": "python",
   "name": "python3"
  },
  "language_info": {
   "codemirror_mode": {
    "name": "ipython",
    "version": 3
   },
   "file_extension": ".py",
   "mimetype": "text/x-python",
   "name": "python",
   "nbconvert_exporter": "python",
   "pygments_lexer": "ipython3",
   "version": "3.10.9"
  }
 },
 "nbformat": 4,
 "nbformat_minor": 2
}
