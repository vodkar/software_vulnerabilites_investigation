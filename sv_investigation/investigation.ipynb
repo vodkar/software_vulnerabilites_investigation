{
 "cells": [
  {
   "cell_type": "markdown",
   "metadata": {},
   "source": [
    "There is a lot more that you can do with outputs (such as including interactive outputs)\n",
    "with your book. For more information about this, see [the Jupyter Book documentation](https://jupyterbook.org)"
   ]
  },
  {
   "cell_type": "markdown",
   "metadata": {},
   "source": [
    "# Software vulnerabilities investigation"
   ]
  },
  {
   "cell_type": "code",
   "execution_count": 42,
   "metadata": {},
   "outputs": [],
   "source": [
    "from concurrent.futures import ThreadPoolExecutor\n",
    "import httpx\n",
    "import zipfile\n",
    "import tempfile\n",
    "from pathlib import Path\n",
    "import orjson as ojson\n",
    "from typing import Any"
   ]
  },
  {
   "cell_type": "markdown",
   "metadata": {},
   "source": [
    "## Prepare data"
   ]
  },
  {
   "cell_type": "code",
   "execution_count": 41,
   "metadata": {},
   "outputs": [],
   "source": [
    "CVE_ZIP_URL = \"https://github.com/CVEProject/cvelistV5/releases/download/cve_2023-12-09_1500Z/2023-12-09_all_CVEs_at_midnight.zip.zip\"\n",
    "# Download archive\n",
    "resp = httpx.get(CVE_ZIP_URL, follow_redirects=True)\n",
    "\n",
    "with tempfile.TemporaryDirectory() as tmpdir:\n",
    "    tmp_path = Path(tmpdir)\n",
    "\n",
    "    with (tmp_path / \"cve.zip.zip\").open(\"wb\") as f:\n",
    "        f.write(resp.content)\n",
    "   \n",
    "    with zipfile.ZipFile(f.name, 'r') as zip_zip_ref:\n",
    "        tmp_zip = tmp_path / \"cves.zip\"\n",
    "        zip_zip_ref.extractall(tmp_path)\n",
    "        with zipfile.ZipFile(tmp_zip) as zip_ref:\n",
    "            files_to_extract = [name for name in zip_ref.namelist() if name.startswith((\"cves/2022/\", \"cves/2023/\"))]\n",
    "            zip_ref.extractall(members=files_to_extract)\n"
   ]
  },
  {
   "cell_type": "code",
   "execution_count": 46,
   "metadata": {},
   "outputs": [
    {
     "name": "stdout",
     "output_type": "stream",
     "text": [
      "46226\n"
     ]
    }
   ],
   "source": [
    "cves_data: list[dict[str, Any]] = []\n",
    "cves_folder = Path(\"cves/\")\n",
    "with ThreadPoolExecutor(20) as p:\n",
    "    for f in p.map(lambda fp: fp.read_text(), cves_folder.rglob(\"*.json\")):\n",
    "        cves_data.append(ojson.loads(f))\n",
    "        \n",
    "print(len(cves_data))"
   ]
  },
  {
   "cell_type": "markdown",
   "metadata": {},
   "source": [
    "## Process CWE types"
   ]
  },
  {
   "cell_type": "code",
   "execution_count": 48,
   "metadata": {},
   "outputs": [
    {
     "name": "stdout",
     "output_type": "stream",
     "text": [
      "43434\n"
     ]
    }
   ],
   "source": [
    "# Get only cves_with cwe\n",
    "cves_with_cwe_data: list[dict[str, Any]] = []\n",
    "for cve_data in cves_data:\n",
    "    problem_types = cve_data[\"containers\"][\"cna\"].get(\"problemTypes\")\n",
    "    if problem_types:\n",
    "        cves_with_cwe_data.append(cve_data)\n",
    "        \n",
    "print(len(cves_with_cwe_data))"
   ]
  }
 ],
 "metadata": {
  "kernelspec": {
   "display_name": "Python 3",
   "language": "python",
   "name": "python3"
  },
  "language_info": {
   "codemirror_mode": {
    "name": "ipython",
    "version": 3
   },
   "file_extension": ".py",
   "mimetype": "text/x-python",
   "name": "python",
   "nbconvert_exporter": "python",
   "pygments_lexer": "ipython3",
   "version": "3.10.9"
  },
  "widgets": {
   "application/vnd.jupyter.widget-state+json": {
    "state": {},
    "version_major": 2,
    "version_minor": 0
   }
  }
 },
 "nbformat": 4,
 "nbformat_minor": 4
}
